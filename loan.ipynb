{
 "cells": [
  {
   "cell_type": "markdown",
   "metadata": {
    "id": "mrJELrLiZs2k"
   },
   "source": [
    "# Importing Labriries"
   ]
  },
  {
   "cell_type": "code",
   "execution_count": 15,
   "metadata": {
    "id": "qJYiAm1yZBeJ"
   },
   "outputs": [],
   "source": [
    "import pandas as pd\n",
    "import numpy as np\n",
    "import seaborn as sns\n",
    "import matplotlib.pyplot as plt\n",
    "%matplotlib inline\n",
    "import warnings\n",
    "warnings.filterwarnings(\"ignore\")"
   ]
  },
  {
   "cell_type": "markdown",
   "metadata": {
    "id": "__u1NjVJadUB"
   },
   "source": [
    "# Loading Data Train & Test\n"
   ]
  },
  {
   "cell_type": "code",
   "execution_count": 31,
   "metadata": {
    "colab": {
     "base_uri": "https://localhost:8080/",
     "height": 204
    },
    "id": "riZ8bSTeae4B",
    "outputId": "ce4940aa-2771-48bc-dccc-b56eb983562f"
   },
   "outputs": [
    {
     "data": {
      "text/html": [
       "<div>\n",
       "<style scoped>\n",
       "    .dataframe tbody tr th:only-of-type {\n",
       "        vertical-align: middle;\n",
       "    }\n",
       "\n",
       "    .dataframe tbody tr th {\n",
       "        vertical-align: top;\n",
       "    }\n",
       "\n",
       "    .dataframe thead th {\n",
       "        text-align: right;\n",
       "    }\n",
       "</style>\n",
       "<table border=\"1\" class=\"dataframe\">\n",
       "  <thead>\n",
       "    <tr style=\"text-align: right;\">\n",
       "      <th></th>\n",
       "      <th>Loan_ID</th>\n",
       "      <th>Gender</th>\n",
       "      <th>Married</th>\n",
       "      <th>Dependents</th>\n",
       "      <th>Education</th>\n",
       "      <th>Self_Employed</th>\n",
       "      <th>ApplicantIncome</th>\n",
       "      <th>CoapplicantIncome</th>\n",
       "      <th>LoanAmount</th>\n",
       "      <th>Loan_Amount_Term</th>\n",
       "      <th>Credit_History</th>\n",
       "      <th>Property_Area</th>\n",
       "      <th>Loa0_Status</th>\n",
       "    </tr>\n",
       "  </thead>\n",
       "  <tbody>\n",
       "    <tr>\n",
       "      <th>0</th>\n",
       "      <td>LP001002</td>\n",
       "      <td>Male</td>\n",
       "      <td>No</td>\n",
       "      <td>0</td>\n",
       "      <td>Graduate</td>\n",
       "      <td>No</td>\n",
       "      <td>5849</td>\n",
       "      <td>0.0</td>\n",
       "      <td>NaN</td>\n",
       "      <td>360.0</td>\n",
       "      <td>1.0</td>\n",
       "      <td>Urban</td>\n",
       "      <td>1</td>\n",
       "    </tr>\n",
       "    <tr>\n",
       "      <th>1</th>\n",
       "      <td>LP001003</td>\n",
       "      <td>Male</td>\n",
       "      <td>Yes</td>\n",
       "      <td>1</td>\n",
       "      <td>Graduate</td>\n",
       "      <td>No</td>\n",
       "      <td>4583</td>\n",
       "      <td>1508.0</td>\n",
       "      <td>128.0</td>\n",
       "      <td>360.0</td>\n",
       "      <td>1.0</td>\n",
       "      <td>Rural</td>\n",
       "      <td>0</td>\n",
       "    </tr>\n",
       "    <tr>\n",
       "      <th>2</th>\n",
       "      <td>LP001005</td>\n",
       "      <td>Male</td>\n",
       "      <td>Yes</td>\n",
       "      <td>0</td>\n",
       "      <td>Graduate</td>\n",
       "      <td>Yes</td>\n",
       "      <td>3000</td>\n",
       "      <td>0.0</td>\n",
       "      <td>66.0</td>\n",
       "      <td>360.0</td>\n",
       "      <td>1.0</td>\n",
       "      <td>Urban</td>\n",
       "      <td>1</td>\n",
       "    </tr>\n",
       "    <tr>\n",
       "      <th>3</th>\n",
       "      <td>LP001006</td>\n",
       "      <td>Male</td>\n",
       "      <td>Yes</td>\n",
       "      <td>0</td>\n",
       "      <td>Not Graduate</td>\n",
       "      <td>No</td>\n",
       "      <td>2583</td>\n",
       "      <td>2358.0</td>\n",
       "      <td>120.0</td>\n",
       "      <td>360.0</td>\n",
       "      <td>1.0</td>\n",
       "      <td>Urban</td>\n",
       "      <td>1</td>\n",
       "    </tr>\n",
       "    <tr>\n",
       "      <th>4</th>\n",
       "      <td>LP001008</td>\n",
       "      <td>Male</td>\n",
       "      <td>No</td>\n",
       "      <td>0</td>\n",
       "      <td>Graduate</td>\n",
       "      <td>No</td>\n",
       "      <td>6000</td>\n",
       "      <td>0.0</td>\n",
       "      <td>141.0</td>\n",
       "      <td>360.0</td>\n",
       "      <td>1.0</td>\n",
       "      <td>Urban</td>\n",
       "      <td>1</td>\n",
       "    </tr>\n",
       "  </tbody>\n",
       "</table>\n",
       "</div>"
      ],
      "text/plain": [
       "    Loan_ID Gender Married Dependents     Education Self_Employed   \n",
       "0  LP001002   Male      No          0      Graduate            No  \\\n",
       "1  LP001003   Male     Yes          1      Graduate            No   \n",
       "2  LP001005   Male     Yes          0      Graduate           Yes   \n",
       "3  LP001006   Male     Yes          0  Not Graduate            No   \n",
       "4  LP001008   Male      No          0      Graduate            No   \n",
       "\n",
       "   ApplicantIncome  CoapplicantIncome  LoanAmount  Loan_Amount_Term   \n",
       "0             5849                0.0         NaN             360.0  \\\n",
       "1             4583             1508.0       128.0             360.0   \n",
       "2             3000                0.0        66.0             360.0   \n",
       "3             2583             2358.0       120.0             360.0   \n",
       "4             6000                0.0       141.0             360.0   \n",
       "\n",
       "   Credit_History Property_Area  Loa0_Status  \n",
       "0             1.0         Urban            1  \n",
       "1             1.0         Rural            0  \n",
       "2             1.0         Urban            1  \n",
       "3             1.0         Urban            1  \n",
       "4             1.0         Urban            1  "
      ]
     },
     "execution_count": 31,
     "metadata": {},
     "output_type": "execute_result"
    }
   ],
   "source": [
    "loan_data=pd.read_csv(r\"C:\\Users\\DELL\\OneDrive\\Desktop\\datasci\\Data Science project\\LoanApplication_Prediction-main\\loan-train.csv\",index_col=False)\n",
    "# loan_data = loan_data.drop(['Unnamed: 0'], axis=1)\n",
    "loan_data.head()"
   ]
  },
  {
   "cell_type": "code",
   "execution_count": 34,
   "metadata": {
    "colab": {
     "base_uri": "https://localhost:8080/",
     "height": 204
    },
    "id": "oz-K7MvFbDaM",
    "outputId": "7fbae3e8-7ef6-4fdf-b690-f4cfc65d9fce"
   },
   "outputs": [
    {
     "data": {
      "text/html": [
       "<div>\n",
       "<style scoped>\n",
       "    .dataframe tbody tr th:only-of-type {\n",
       "        vertical-align: middle;\n",
       "    }\n",
       "\n",
       "    .dataframe tbody tr th {\n",
       "        vertical-align: top;\n",
       "    }\n",
       "\n",
       "    .dataframe thead th {\n",
       "        text-align: right;\n",
       "    }\n",
       "</style>\n",
       "<table border=\"1\" class=\"dataframe\">\n",
       "  <thead>\n",
       "    <tr style=\"text-align: right;\">\n",
       "      <th></th>\n",
       "      <th>Loan_ID</th>\n",
       "      <th>Gender</th>\n",
       "      <th>Married</th>\n",
       "      <th>Dependents</th>\n",
       "      <th>Education</th>\n",
       "      <th>Self_Employed</th>\n",
       "      <th>ApplicantIncome</th>\n",
       "      <th>CoapplicantIncome</th>\n",
       "      <th>LoanAmount</th>\n",
       "      <th>Loan_Amount_Term</th>\n",
       "      <th>Credit_History</th>\n",
       "      <th>Property_Area</th>\n",
       "    </tr>\n",
       "  </thead>\n",
       "  <tbody>\n",
       "    <tr>\n",
       "      <th>0</th>\n",
       "      <td>LP001015</td>\n",
       "      <td>Male</td>\n",
       "      <td>Yes</td>\n",
       "      <td>0</td>\n",
       "      <td>Graduate</td>\n",
       "      <td>No</td>\n",
       "      <td>5720</td>\n",
       "      <td>0</td>\n",
       "      <td>110.0</td>\n",
       "      <td>360.0</td>\n",
       "      <td>1.0</td>\n",
       "      <td>Urban</td>\n",
       "    </tr>\n",
       "    <tr>\n",
       "      <th>1</th>\n",
       "      <td>LP001022</td>\n",
       "      <td>Male</td>\n",
       "      <td>Yes</td>\n",
       "      <td>1</td>\n",
       "      <td>Graduate</td>\n",
       "      <td>No</td>\n",
       "      <td>3076</td>\n",
       "      <td>1500</td>\n",
       "      <td>126.0</td>\n",
       "      <td>360.0</td>\n",
       "      <td>1.0</td>\n",
       "      <td>Urban</td>\n",
       "    </tr>\n",
       "    <tr>\n",
       "      <th>2</th>\n",
       "      <td>LP001031</td>\n",
       "      <td>Male</td>\n",
       "      <td>Yes</td>\n",
       "      <td>2</td>\n",
       "      <td>Graduate</td>\n",
       "      <td>No</td>\n",
       "      <td>5000</td>\n",
       "      <td>1800</td>\n",
       "      <td>208.0</td>\n",
       "      <td>360.0</td>\n",
       "      <td>1.0</td>\n",
       "      <td>Urban</td>\n",
       "    </tr>\n",
       "    <tr>\n",
       "      <th>3</th>\n",
       "      <td>LP001035</td>\n",
       "      <td>Male</td>\n",
       "      <td>Yes</td>\n",
       "      <td>2</td>\n",
       "      <td>Graduate</td>\n",
       "      <td>No</td>\n",
       "      <td>2340</td>\n",
       "      <td>2546</td>\n",
       "      <td>100.0</td>\n",
       "      <td>360.0</td>\n",
       "      <td>NaN</td>\n",
       "      <td>Urban</td>\n",
       "    </tr>\n",
       "    <tr>\n",
       "      <th>4</th>\n",
       "      <td>LP001051</td>\n",
       "      <td>Male</td>\n",
       "      <td>No</td>\n",
       "      <td>0</td>\n",
       "      <td>Not Graduate</td>\n",
       "      <td>No</td>\n",
       "      <td>3276</td>\n",
       "      <td>0</td>\n",
       "      <td>78.0</td>\n",
       "      <td>360.0</td>\n",
       "      <td>1.0</td>\n",
       "      <td>Urban</td>\n",
       "    </tr>\n",
       "  </tbody>\n",
       "</table>\n",
       "</div>"
      ],
      "text/plain": [
       "    Loan_ID Gender Married Dependents     Education Self_Employed   \n",
       "0  LP001015   Male     Yes          0      Graduate            No  \\\n",
       "1  LP001022   Male     Yes          1      Graduate            No   \n",
       "2  LP001031   Male     Yes          2      Graduate            No   \n",
       "3  LP001035   Male     Yes          2      Graduate            No   \n",
       "4  LP001051   Male      No          0  Not Graduate            No   \n",
       "\n",
       "   ApplicantIncome  CoapplicantIncome  LoanAmount  Loan_Amount_Term   \n",
       "0             5720                  0       110.0             360.0  \\\n",
       "1             3076               1500       126.0             360.0   \n",
       "2             5000               1800       208.0             360.0   \n",
       "3             2340               2546       100.0             360.0   \n",
       "4             3276                  0        78.0             360.0   \n",
       "\n",
       "   Credit_History Property_Area  \n",
       "0             1.0         Urban  \n",
       "1             1.0         Urban  \n",
       "2             1.0         Urban  \n",
       "3             NaN         Urban  \n",
       "4             1.0         Urban  "
      ]
     },
     "execution_count": 34,
     "metadata": {},
     "output_type": "execute_result"
    }
   ],
   "source": [
    "test_data = pd.read_csv(r\"C:\\Users\\DELL\\OneDrive\\Desktop\\datasci\\Data Science project\\LoanApplication_Prediction-main\\loan-test.csv\")\n",
    "test_data.head()"
   ]
  },
  {
   "cell_type": "code",
   "execution_count": 35,
   "metadata": {
    "colab": {
     "base_uri": "https://localhost:8080/"
    },
    "id": "R0NRUCSYbvkj",
    "outputId": "1ebdcb9b-37c5-4219-8bb4-ac96ae6976fe"
   },
   "outputs": [
    {
     "data": {
      "text/plain": [
       "(614, 13)"
      ]
     },
     "execution_count": 35,
     "metadata": {},
     "output_type": "execute_result"
    }
   ],
   "source": [
    "loan_data.shape\n"
   ]
  },
  {
   "cell_type": "markdown",
   "metadata": {
    "id": "V4MXHwMJcN25"
   },
   "source": [
    "We have 491 rows and 13 columns in train dataset."
   ]
  },
  {
   "cell_type": "code",
   "execution_count": 36,
   "metadata": {
    "colab": {
     "base_uri": "https://localhost:8080/"
    },
    "id": "X--lqh-Fb-XX",
    "outputId": "583a792b-c1e2-4b67-ce1e-d0d66989361e"
   },
   "outputs": [
    {
     "data": {
      "text/plain": [
       "(367, 12)"
      ]
     },
     "execution_count": 36,
     "metadata": {},
     "output_type": "execute_result"
    }
   ],
   "source": [
    "test_data.shape\n"
   ]
  },
  {
   "cell_type": "markdown",
   "metadata": {
    "id": "djOAbCBMcTIh"
   },
   "source": [
    "We have 123 rows and 12 columns in test dataset."
   ]
  },
  {
   "cell_type": "code",
   "execution_count": null,
   "metadata": {
    "colab": {
     "base_uri": "https://localhost:8080/"
    },
    "id": "F2N6OgIjcBO0",
    "outputId": "4749b5ca-4e43-42cd-f8f8-079327556c77"
   },
   "outputs": [],
   "source": [
    "loan_data['Loan_Status'].value_counts()"
   ]
  },
  {
   "cell_type": "code",
   "execution_count": null,
   "metadata": {
    "colab": {
     "base_uri": "https://localhost:8080/"
    },
    "id": "aisuEA47cEnz",
    "outputId": "1d2d5333-93e1-4ad4-fb65-4be4583cd02a"
   },
   "outputs": [],
   "source": [
    "loan_data['Loan_Status'].value_counts(normalize=True)"
   ]
  },
  {
   "cell_type": "code",
   "execution_count": null,
   "metadata": {
    "colab": {
     "base_uri": "https://localhost:8080/",
     "height": 279
    },
    "id": "tlwaUuXjcKHi",
    "outputId": "8a6576c9-55e3-4dac-8774-89a1cfc7b632"
   },
   "outputs": [],
   "source": [
    "loan_data['Loan_Status'].value_counts().plot.bar()"
   ]
  },
  {
   "cell_type": "markdown",
   "metadata": {
    "id": "gmjKHoYTclo2"
   },
   "source": [
    "The loan of 343(around 69.85%) people out of 491 were approved."
   ]
  },
  {
   "cell_type": "markdown",
   "metadata": {
    "id": "6FzA7DcedNPN"
   },
   "source": [
    "Now, let's visualize each variable separately. Different types of variables are Categorical, ordinal and numerical.\n",
    "\n",
    "* Categorical features: These features have categories (Gender, Married, Self_Employed, Credit_History, Loan_Status)\n",
    "* Ordinal features: Variables in categorical features having some order involved (Dependents, Education, Property_Area)\n",
    "* Numerical features: These features have numerical values (ApplicantIncome, CoapplicantIncome, LoanAmount,Loan_Amount_Term)"
   ]
  },
  {
   "cell_type": "markdown",
   "metadata": {
    "id": "2KgDFQaFdU1T"
   },
   "source": [
    "## Independent Variable (Categorical)"
   ]
  },
  {
   "cell_type": "code",
   "execution_count": null,
   "metadata": {
    "colab": {
     "base_uri": "https://localhost:8080/",
     "height": 1000
    },
    "id": "f13aaafGcib7",
    "outputId": "7fb3f30b-e8cd-4dc7-f9f3-a5f2c2e566b3"
   },
   "outputs": [],
   "source": [
    "loan_data['Gender'].value_counts(normalize=True).plot.bar(title='Gender')\n",
    "plt.show()\n",
    "loan_data['Married'].value_counts(normalize=True).plot.bar(title='Married')\n",
    "plt.show()\n",
    "loan_data['Self_Employed'].value_counts(normalize=True).plot.bar(title='Self_Employed')\n",
    "plt.show()\n",
    "loan_data['Credit_History'].value_counts(normalize=True).plot.bar(title='Credit_History')\n",
    "plt.show()\n"
   ]
  },
  {
   "cell_type": "markdown",
   "metadata": {
    "id": "ZIB69cs0doLN"
   },
   "source": [
    "It can be inferred from the above bar plots that:\n",
    "\n",
    "* 80% applicants in the dataset are male.\n",
    "* Around 65% of the applicants in the dataset are married.\n",
    "* Around 15% applicants in the dataset are self employed.\n",
    "* Around 85% applicants have repaid their doubts."
   ]
  },
  {
   "cell_type": "markdown",
   "metadata": {
    "id": "dEKRlozPdzyQ"
   },
   "source": [
    "## Independent Variable (Ordinal)"
   ]
  },
  {
   "cell_type": "code",
   "execution_count": null,
   "metadata": {
    "colab": {
     "base_uri": "https://localhost:8080/",
     "height": 916
    },
    "id": "-5x0MZIcdETe",
    "outputId": "9a787565-cb06-4660-e965-ea6144af3504"
   },
   "outputs": [],
   "source": [
    "loan_data['Dependents'].value_counts(normalize=True).plot.bar( title='Dependents')\n",
    "plt.show()\n",
    "loan_data['Education'].value_counts(normalize=True).plot.bar(title='Education')\n",
    "plt.show()\n",
    "loan_data['Property_Area'].value_counts(normalize=True).plot.bar(title='Property_Area')\n",
    "plt.show()"
   ]
  },
  {
   "cell_type": "markdown",
   "metadata": {
    "id": "a80gApFweNRO"
   },
   "source": [
    "Following inferences can be made from the above bar plots:\n",
    "\n",
    "* Most of the applicants don't have any dependents.\n",
    "* Around 80% of the applicants are Graduate.\n",
    "* Most of the applicants are from Semiurban area."
   ]
  },
  {
   "cell_type": "markdown",
   "metadata": {
    "id": "8OnK3nxfeTkK"
   },
   "source": [
    "## Independent Variable (Numerical)\n",
    "\n",
    "Till now we have seen the categorical and ordinal variables and now lets visualize the numerical variables. Lets look at the distribution of Applicant income first."
   ]
  },
  {
   "cell_type": "code",
   "execution_count": null,
   "metadata": {
    "colab": {
     "base_uri": "https://localhost:8080/",
     "height": 582
    },
    "id": "4y_gPMoWd_db",
    "outputId": "71099761-a52c-4798-8dd5-bf7a4be195aa"
   },
   "outputs": [],
   "source": [
    "sns.distplot(loan_data['ApplicantIncome'])\n",
    "plt.show()\n",
    "loan_data['ApplicantIncome'].plot.box(figsize=(16,5))\n",
    "plt.show()"
   ]
  },
  {
   "cell_type": "markdown",
   "metadata": {
    "id": "WCSsd50QeclX"
   },
   "source": [
    "It can be inferred that most of the data in the distribution of applicant income is towards left which means it is not normally distributed. We will try to make it normal in later sections as algorithms works better if the data is normally distributed.\n",
    "\n",
    "The boxplot confirms the presence of a lot of outliers/extreme values. This can be attributed to the income disparity in the society. Part of this can be driven by the fact that we are looking at people with different eduation levels. Let us segregate them by Education."
   ]
  },
  {
   "cell_type": "code",
   "execution_count": null,
   "metadata": {
    "colab": {
     "base_uri": "https://localhost:8080/",
     "height": 311
    },
    "id": "k4i9t6t9eZfq",
    "outputId": "0fc08c21-768f-498c-d589-a468bf170380"
   },
   "outputs": [],
   "source": [
    "loan_data.boxplot(column='ApplicantIncome', by = 'Education') \n",
    "plt.suptitle(\"\")"
   ]
  },
  {
   "cell_type": "markdown",
   "metadata": {
    "id": "R0SgTc56eoA0"
   },
   "source": [
    "We can see that there are a higher number of graduates with very high incomes, which are appearing to be outliers.\n",
    "\n",
    "Let's look at the Coapplicant income distribution."
   ]
  },
  {
   "cell_type": "code",
   "execution_count": null,
   "metadata": {
    "colab": {
     "base_uri": "https://localhost:8080/",
     "height": 582
    },
    "id": "Y4w_g8UOejgN",
    "outputId": "cf9cf189-21c6-4f55-ec9c-83a5bfd8fe95"
   },
   "outputs": [],
   "source": [
    "sns.distplot(loan_data['CoapplicantIncome'])\n",
    "plt.show()\n",
    "loan_data['CoapplicantIncome'].plot.box(figsize=(16,5))\n",
    "plt.show()\n"
   ]
  },
  {
   "cell_type": "markdown",
   "metadata": {
    "id": "bqNoR42gevtY"
   },
   "source": [
    "We see a similar distribution as that of the applicant's income. The majority of co-applicants income ranges from 0 to 5000. We also see a lot of outliers in the applicant's income and it is not normally distributed."
   ]
  },
  {
   "cell_type": "code",
   "execution_count": null,
   "metadata": {
    "colab": {
     "base_uri": "https://localhost:8080/",
     "height": 582
    },
    "id": "xPxStOzkestj",
    "outputId": "7f59fa3f-10e4-44b2-aae4-1e832878f8b3"
   },
   "outputs": [],
   "source": [
    "loan_data.notna()\n",
    "# train.dropna()\n",
    "# print(train[train['LoanAmount'].isnull()])\n",
    "# train['LoanAmount'] = pd.to_numeric(train['LoanAmount'], errors='coerce')\n",
    "# train = train.dropna(subset=['LoanAmount'])\n",
    "# train['LoanAmount'] = train['LoanAmount'].astype(int)\n",
    "sns.distplot(loan_data['LoanAmount'])\n",
    "plt.show()\n",
    "loan_data['LoanAmount'].plot.box(figsize=(16,5))\n",
    "plt.show()"
   ]
  },
  {
   "cell_type": "markdown",
   "metadata": {
    "id": "oQ-xC7S5e5CP"
   },
   "source": [
    "We see a lot of outliers in this variable and the distribution is fairly normal. We will treat the outliers in later sections."
   ]
  },
  {
   "cell_type": "markdown",
   "metadata": {
    "id": "LArx9yHafZDs"
   },
   "source": [
    "### Categorical Independent Variable vs Target Variable\n",
    "\n",
    "First of all, we will find the relation between the target variable and categorical independent variables. Let us look at the stacked bar plot now which will give us the proportion of approved and unapproved loans."
   ]
  },
  {
   "cell_type": "code",
   "execution_count": null,
   "metadata": {
    "colab": {
     "base_uri": "https://localhost:8080/",
     "height": 305
    },
    "id": "hAWQ5KbYe19-",
    "outputId": "8e122a29-1200-4ee1-b6f4-a8295f4bd475"
   },
   "outputs": [],
   "source": [
    "Gender=pd.crosstab(loan_data['Gender'],loan_data['Loan_Status'])\n",
    "Gender.div(Gender.sum(1).astype(float), axis=0).plot(kind=\"bar\",stacked=True,figsize=(4,4))\n",
    "plt.show()"
   ]
  },
  {
   "cell_type": "markdown",
   "metadata": {
    "id": "iIh0CQYifkwq"
   },
   "source": [
    "It can be inferred that the proportion of male and female applicants is more or less the same for both approved and unapproved loans.\n",
    "\n",
    "Now let us visualize the remaining categorical variables vs target variable."
   ]
  },
  {
   "cell_type": "code",
   "execution_count": null,
   "metadata": {
    "colab": {
     "base_uri": "https://localhost:8080/",
     "height": 1000
    },
    "id": "wQGVG8xcfhhQ",
    "outputId": "0c14a9e3-5065-4b80-fa88-488bbc60309d"
   },
   "outputs": [],
   "source": [
    "Married=pd.crosstab(loan_data['Married'],loan_data['Loan_Status'])\n",
    "Dependents=pd.crosstab(loan_data['Dependents'],loan_data['Loan_Status'])\n",
    "Education=pd.crosstab(loan_data['Education'],loan_data['Loan_Status'])\n",
    "Self_Employed=pd.crosstab(loan_data['Self_Employed'],loan_data['Loan_Status'])\n",
    "Married.div(Married.sum(1).astype(float), axis=0).plot(kind=\"bar\",stacked=True,figsize=(4,4))\n",
    "plt.show()\n",
    "Dependents.div(Dependents.sum(1).astype(float), axis=0).plot(kind=\"bar\",stacked=True,figsize=(4,4))\n",
    "plt.show()\n",
    "Education.div(Education.sum(1).astype(float), axis=0).plot(kind=\"bar\",stacked=True,figsize=(4,4))\n",
    "plt.show()\n",
    "Self_Employed.div(Self_Employed.sum(1).astype(float), axis=0).plot(kind=\"bar\",stacked=True,figsize=(4,4))\n",
    "plt.show()"
   ]
  },
  {
   "cell_type": "code",
   "execution_count": 17,
   "metadata": {
    "colab": {
     "base_uri": "https://localhost:8080/",
     "height": 593
    },
    "id": "sJornyKafuEH",
    "outputId": "bccbf7bd-0874-4934-c857-60430ee930b1"
   },
   "outputs": [
    {
     "ename": "NameError",
     "evalue": "name 'loan_data' is not defined",
     "output_type": "error",
     "traceback": [
      "\u001b[1;31m---------------------------------------------------------------------------\u001b[0m",
      "\u001b[1;31mNameError\u001b[0m                                 Traceback (most recent call last)",
      "Cell \u001b[1;32mIn[17], line 1\u001b[0m\n\u001b[1;32m----> 1\u001b[0m Credit_History\u001b[38;5;241m=\u001b[39mpd\u001b[38;5;241m.\u001b[39mcrosstab(\u001b[43mloan_data\u001b[49m[\u001b[38;5;124m'\u001b[39m\u001b[38;5;124mCredit_History\u001b[39m\u001b[38;5;124m'\u001b[39m],loan_data[\u001b[38;5;124m'\u001b[39m\u001b[38;5;124mLoan_Status\u001b[39m\u001b[38;5;124m'\u001b[39m])\n\u001b[0;32m      2\u001b[0m Property_Area\u001b[38;5;241m=\u001b[39mpd\u001b[38;5;241m.\u001b[39mcrosstab(loan_data[\u001b[38;5;124m'\u001b[39m\u001b[38;5;124mProperty_Area\u001b[39m\u001b[38;5;124m'\u001b[39m],loan_data[\u001b[38;5;124m'\u001b[39m\u001b[38;5;124mLoan_Status\u001b[39m\u001b[38;5;124m'\u001b[39m])\n\u001b[0;32m      3\u001b[0m Credit_History\u001b[38;5;241m.\u001b[39mdiv(Credit_History\u001b[38;5;241m.\u001b[39msum(\u001b[38;5;241m1\u001b[39m)\u001b[38;5;241m.\u001b[39mastype(\u001b[38;5;28mfloat\u001b[39m), axis\u001b[38;5;241m=\u001b[39m\u001b[38;5;241m0\u001b[39m)\u001b[38;5;241m.\u001b[39mplot(kind\u001b[38;5;241m=\u001b[39m\u001b[38;5;124m\"\u001b[39m\u001b[38;5;124mbar\u001b[39m\u001b[38;5;124m\"\u001b[39m,stacked\u001b[38;5;241m=\u001b[39m\u001b[38;5;28;01mTrue\u001b[39;00m,figsize\u001b[38;5;241m=\u001b[39m(\u001b[38;5;241m4\u001b[39m,\u001b[38;5;241m4\u001b[39m))\n",
      "\u001b[1;31mNameError\u001b[0m: name 'loan_data' is not defined"
     ]
    }
   ],
   "source": [
    "Credit_History=pd.crosstab(loan_data['Credit_History'],loan_data['Loan_Status'])\n",
    "Property_Area=pd.crosstab(loan_data['Property_Area'],loan_data['Loan_Status'])\n",
    "Credit_History.div(Credit_History.sum(1).astype(float), axis=0).plot(kind=\"bar\",stacked=True,figsize=(4,4))\n",
    "plt.show()\n",
    "Property_Area.div(Property_Area.sum(1).astype(float), axis=0).plot(kind=\"bar\",stacked=True)\n",
    "plt.show()"
   ]
  },
  {
   "cell_type": "markdown",
   "metadata": {
    "id": "2qclEGkbgEik"
   },
   "source": [
    "### Numerical Independent Variable vs Target Variable\n",
    "\n",
    "We will try to find the mean income of people for which the loan has been approved vs the mean income of people for which the loan has not been approved."
   ]
  },
  {
   "cell_type": "code",
   "execution_count": null,
   "metadata": {
    "colab": {
     "base_uri": "https://localhost:8080/",
     "height": 294
    },
    "id": "jt5p1yt_f-aa",
    "outputId": "6f21811d-ed57-4408-e74d-8837fef37a13"
   },
   "outputs": [],
   "source": [
    "loan_data.groupby('Loan_Status')['ApplicantIncome'].mean().plot.bar()"
   ]
  },
  {
   "cell_type": "markdown",
   "metadata": {
    "id": "Kic2ss43gNUg"
   },
   "source": [
    "Here the y-axis represents the mean applicant income. We don't see any change in the mean income. So, let's make bins for the applicant income variable based on the values in it and analyze the corresponding loan status for each bin."
   ]
  },
  {
   "cell_type": "code",
   "execution_count": null,
   "metadata": {
    "colab": {
     "base_uri": "https://localhost:8080/",
     "height": 317
    },
    "id": "LlMmbw6RgKta",
    "outputId": "1eb227de-ff51-424d-832c-4a9201feff77"
   },
   "outputs": [],
   "source": [
    "bins=[0,2500,4000,6000,81000]\n",
    "group=['Low','Average','High','Very high']\n",
    "loan_data['Income_bin']=pd.cut(loan_data['ApplicantIncome'],bins,labels=group)\n",
    "Income_bin=pd.crosstab(loan_data['Income_bin'],loan_data['Loan_Status'])\n",
    "Income_bin.div(Income_bin.sum(1).astype(float), axis=0).plot(kind=\"bar\",stacked=True)\n",
    "plt.xlabel('ApplicantIncome')\n",
    "P=plt.ylabel('Percentage')"
   ]
  },
  {
   "cell_type": "markdown",
   "metadata": {
    "id": "ljfvvwIygeXg"
   },
   "source": [
    "It can be inferred that Applicant income does not affect the chances of loan approval which contradicts our hypothesis in which we assumed that if the applicant income is high the chances of loan approval will also be high.\n",
    "\n",
    "We will analyze the coapplicant income and loan amount variable in similar manner."
   ]
  },
  {
   "cell_type": "code",
   "execution_count": null,
   "metadata": {
    "colab": {
     "base_uri": "https://localhost:8080/",
     "height": 310
    },
    "id": "pWTTqhrcgWRH",
    "outputId": "16ac1259-945f-48f2-f9a8-83ac906a9415"
   },
   "outputs": [],
   "source": [
    "bins=[0,1000,3000,42000]\n",
    "group=['Low','Average','High']\n",
    "loan_data['Coapplicant_Income_bin']=pd.cut(loan_data['CoapplicantIncome'],bins,labels=group)\n",
    "Coapplicant_Income_bin=pd.crosstab(loan_data['Coapplicant_Income_bin'],loan_data['Loan_Status'])\n",
    "Coapplicant_Income_bin.div(Coapplicant_Income_bin.sum(1).astype(float), axis=0).plot(kind=\"bar\",stacked=True)\n",
    "plt.xlabel('CoapplicantIncome')\n",
    "P=plt.ylabel('Percentage')"
   ]
  },
  {
   "cell_type": "markdown",
   "metadata": {
    "id": "iAmXeaXcgq4S"
   },
   "source": [
    "It shows that if co-applicants income is less the chances of loan approval are high. But this does not look right. The possible reason behind this may be that most of the applicants don't have any co-applicant so the co-applicant income for such applicants is 0 and hence the loan approval is not dependent on it. So, we can make a new variable in which we will combine the applicant's and co-applicants income to visualize the combined effect of income on loan approval.\n",
    "\n",
    "Let us combine the Applicant Income and Coapplicant Income and see the combined effect of Total Income on the Loan_Status."
   ]
  },
  {
   "cell_type": "code",
   "execution_count": null,
   "metadata": {
    "colab": {
     "base_uri": "https://localhost:8080/",
     "height": 318
    },
    "id": "1wUYa9LHgoYE",
    "outputId": "c91c1304-f8ba-4e47-9ed4-5098e1e890b2"
   },
   "outputs": [],
   "source": [
    "loan_data['Total_Income']=loan_data['ApplicantIncome']+loan_data['CoapplicantIncome']\n",
    "bins=[0,2500,4000,6000,81000]\n",
    "group=['Low','Average','High','Very high']\n",
    "loan_data['Total_Income_bin']=pd.cut(loan_data['Total_Income'],bins,labels=group)\n",
    "Total_Income_bin=pd.crosstab(loan_data['Total_Income_bin'],loan_data['Loan_Status'])\n",
    "Total_Income_bin.div(Total_Income_bin.sum(1).astype(float), axis=0).plot(kind=\"bar\",stacked=True)\n",
    "plt.xlabel('Total_Income')\n",
    "P=plt.ylabel('Percentage')"
   ]
  },
  {
   "cell_type": "markdown",
   "metadata": {
    "id": "jGBqPRkWg1kg"
   },
   "source": [
    "We can see that Proportion of loans getting approved for applicants having low Total_Income is very less compared to that of applicants with Average, High & Very High Income.\n",
    "\n",
    "Let's visualize the Loan Amount variable."
   ]
  },
  {
   "cell_type": "code",
   "execution_count": null,
   "metadata": {
    "colab": {
     "base_uri": "https://localhost:8080/",
     "height": 310
    },
    "id": "E9_4ARsQgwCa",
    "outputId": "b583e906-cf3a-476f-d12e-ec170207e31c"
   },
   "outputs": [],
   "source": [
    "bins=[0,100,200,700]\n",
    "group=['Low','Average','High']\n",
    "loan_data['LoanAmount_bin']=pd.cut(loan_data['LoanAmount'],bins,labels=group)\n",
    "LoanAmount_bin=pd.crosstab(loan_data['LoanAmount_bin'],loan_data['Loan_Status'])\n",
    "LoanAmount_bin.div(LoanAmount_bin.sum(1).astype(float), axis=0).plot(kind=\"bar\",stacked=True)\n",
    "plt.xlabel('LoanAmount')\n",
    "P=plt.ylabel('Percentage')"
   ]
  },
  {
   "cell_type": "markdown",
   "metadata": {
    "id": "vh6TH2Wpg-Md"
   },
   "source": [
    "It can be seen that the proportion of approved loans is higher for Low and Average Loan Amount as compared to that of High Loan Amount which supports our hypothesis in which we considered that the chances of loan approval will be high when the loan amount is less.\n",
    "\n",
    "Let’s drop the bins which we created for the exploration part. We will change the 3+ in dependents variable to 3 to make it a numerical variable.We will also convert the target variable’s categories into 0 and 1 so that we can find its correlation with numerical variables. One more reason to do so is few models like logistic regression takes only numeric values as input. We will replace N with 0 and Y with 1."
   ]
  },
  {
   "cell_type": "code",
   "execution_count": null,
   "metadata": {
    "id": "BAfRwvhOg63R"
   },
   "outputs": [],
   "source": [
    "# print(train.dtypes)\n",
    "loan_data=loan_data.drop(['Income_bin', 'Coapplicant_Income_bin', 'LoanAmount_bin', 'Total_Income_bin', 'Total_Income'], axis=1)\n",
    "loan_data['Dependents'].replace('3+', 3,inplace=True)\n",
    "test_data['Dependents'].replace('3+', 3,inplace=True)\n"
   ]
  },
  {
   "cell_type": "markdown",
   "metadata": {
    "id": "sY_FBzcWhR1e"
   },
   "source": [
    "Now let's look at the correlation between all the numerical variables. We will use the heat map to visualize the correlation. Heatmaps visualize data through variations in coloring. The variables with darker color means their correlation is more."
   ]
  },
  {
   "cell_type": "code",
   "execution_count": null,
   "metadata": {
    "colab": {
     "base_uri": "https://localhost:8080/",
     "height": 482
    },
    "id": "t4HVuXAZhPrT",
    "outputId": "7aaffba4-2c7e-4f72-ea01-2d1763212494"
   },
   "outputs": [],
   "source": [
    "matrix = loan_data.corr()\n",
    "f, ax = plt.subplots(figsize=(9,6))\n",
    "sns.heatmap(matrix,vmax=.8,square=True,cmap=\"BuPu\", annot = True)\n"
   ]
  },
  {
   "cell_type": "markdown",
   "metadata": {
    "id": "tvetZrD7huL_"
   },
   "source": [
    "We see that the most correlate variables are (ApplicantIncome - LoanAmount) and (Credit_History - Loan_Status). \n",
    "\n",
    "(LoanAmount is also correlated with CoapplicantIncome)."
   ]
  },
  {
   "cell_type": "markdown",
   "metadata": {
    "id": "-lAgTNcHiA1k"
   },
   "source": [
    "## Missing value imputation\n",
    "\n",
    "Let's list out feature-wise count of missing values."
   ]
  },
  {
   "cell_type": "code",
   "execution_count": null,
   "metadata": {
    "colab": {
     "base_uri": "https://localhost:8080/"
    },
    "id": "SSNzRgpmhXVA",
    "outputId": "2ac60014-d02f-47b6-cf27-bf8990d9e47e"
   },
   "outputs": [],
   "source": [
    "loan_data.isnull().sum()"
   ]
  },
  {
   "cell_type": "markdown",
   "metadata": {
    "id": "7Xddxx2OiKOw"
   },
   "source": [
    "There are missing values in Gender, Married, Dependents, Self_Employed, LoanAmount, Loan_Amount_Term and Credit_History features.\n",
    "\n",
    "We will treat the missing values in all the features one by one.\n",
    "\n",
    "We can consider these methods to fill the missing values:\n",
    "\n",
    "  * For numerical variables: imputation using mean or median\n",
    "  * For categorical variables: imputation using mode\n",
    "  \n",
    "There are very less missing values in Gender, Married, Dependents, Credit_History and Self_Employed features so we can fill them using the mode of the features."
   ]
  },
  {
   "cell_type": "code",
   "execution_count": null,
   "metadata": {
    "id": "a5vkTm9DiGkB"
   },
   "outputs": [],
   "source": [
    "loan_data['Gender'].fillna(loan_data['Gender'].mode()[0], inplace=True)\n",
    "loan_data['Married'].fillna(loan_data['Married'].mode()[0], inplace=True)\n",
    "loan_data['Dependents'].fillna(loan_data['Dependents'].mode()[0], inplace=True)\n",
    "loan_data['Self_Employed'].fillna(loan_data['Self_Employed'].mode()[0], inplace=True)\n",
    "loan_data['Credit_History'].fillna(loan_data['Credit_History'].mode()[0], inplace=True)"
   ]
  },
  {
   "cell_type": "markdown",
   "metadata": {
    "id": "UOYvUrfNiiY8"
   },
   "source": [
    "Now let’s try to find a way to fill the missing values in Loan_Amount_Term. We will look at the value count of the Loan amount term variable"
   ]
  },
  {
   "cell_type": "code",
   "execution_count": null,
   "metadata": {
    "colab": {
     "base_uri": "https://localhost:8080/"
    },
    "id": "lfjLhkGlif6d",
    "outputId": "2d5f311b-cdc0-4daf-eb64-bcffbbf2563c"
   },
   "outputs": [],
   "source": [
    "loan_data['Loan_Amount_Term'].value_counts()\n"
   ]
  },
  {
   "cell_type": "markdown",
   "metadata": {
    "id": "YPiYSeOWiqLa"
   },
   "source": [
    "It can be seen that in loan amount term variable, the value of 360 is repeating the most. So we will replace the missing values in this variable using the mode of this variable."
   ]
  },
  {
   "cell_type": "code",
   "execution_count": null,
   "metadata": {
    "id": "Sx6SdGmAimsJ"
   },
   "outputs": [],
   "source": [
    "loan_data['Loan_Amount_Term'].fillna(loan_data['Loan_Amount_Term'].mode()[0], inplace=True)"
   ]
  },
  {
   "cell_type": "markdown",
   "metadata": {
    "id": "qZohh9_-i1rQ"
   },
   "source": [
    "Now we will see the LoanAmount variable. As it is a numerical variable, we can use mean or median to impute the missing values. We will use the median to fill the null values as earlier we saw that the loan amount has outliers so the mean will not be the proper approach as it is highly affected by the presence of outliers."
   ]
  },
  {
   "cell_type": "code",
   "execution_count": null,
   "metadata": {
    "id": "DEc_fCzBiyBp"
   },
   "outputs": [],
   "source": [
    "loan_data['LoanAmount'].fillna(loan_data['LoanAmount'].median(), inplace=True)"
   ]
  },
  {
   "cell_type": "markdown",
   "metadata": {
    "id": "jXPgX_9Ci8pJ"
   },
   "source": [
    "Now lets check whether all the missing values are filled in the dataset."
   ]
  },
  {
   "cell_type": "code",
   "execution_count": null,
   "metadata": {
    "colab": {
     "base_uri": "https://localhost:8080/"
    },
    "id": "OhAu8Iywi5O8",
    "outputId": "798c49d6-931f-4d7a-99f6-e083b0ef2d86"
   },
   "outputs": [],
   "source": [
    "loan_data.isnull().sum()"
   ]
  },
  {
   "cell_type": "markdown",
   "metadata": {
    "id": "lPDNPx33jGcO"
   },
   "source": [
    "As we can see that all the missing values have been filled in the test dataset. Let’s fill all the missing values in the test dataset too with the same approach."
   ]
  },
  {
   "cell_type": "code",
   "execution_count": null,
   "metadata": {
    "id": "0Nx5juL6jA9z"
   },
   "outputs": [],
   "source": [
    "test_data['Gender'].fillna(loan_data['Gender'].mode()[0], inplace=True)\n",
    "test_data['Married'].fillna(loan_data['Married'].mode()[0], inplace=True)\n",
    "test_data['Dependents'].fillna(loan_data['Dependents'].mode()[0], inplace=True)\n",
    "test_data['Self_Employed'].fillna(loan_data['Self_Employed'].mode()[0], inplace=True)\n",
    "test_data['Credit_History'].fillna(loan_data['Credit_History'].mode()[0], inplace=True)\n",
    "test_data['Loan_Amount_Term'].fillna(loan_data['Loan_Amount_Term'].mode()[0], inplace=True)\n",
    "test_data['LoanAmount'].fillna(loan_data['LoanAmount'].median(), inplace=True)"
   ]
  },
  {
   "cell_type": "markdown",
   "metadata": {
    "id": "j0qTkl95jl4E"
   },
   "source": [
    "## Outlier Treatement"
   ]
  },
  {
   "cell_type": "code",
   "execution_count": null,
   "metadata": {
    "colab": {
     "base_uri": "https://localhost:8080/",
     "height": 265
    },
    "id": "e8FpMuJFjTk-",
    "outputId": "145569ba-5e35-409d-80fb-5c800978c330"
   },
   "outputs": [],
   "source": [
    "loan_data['LoanAmount_log']=np.log(loan_data['LoanAmount'])\n",
    "loan_data['LoanAmount_log'].hist(bins=20)\n",
    "test_data['LoanAmount_log']=np.log(test_data['LoanAmount'])"
   ]
  },
  {
   "cell_type": "markdown",
   "metadata": {
    "id": "lXR1ELm1kcwR"
   },
   "source": [
    "Now the distribution looks much closer to normal and effect of extreme values has been significantly subsided. \n",
    "\n",
    "Let's build a logistic regression model and make predictions for the test dataset.\n"
   ]
  },
  {
   "cell_type": "code",
   "execution_count": null,
   "metadata": {
    "id": "lrQrnGWAkZyH"
   },
   "outputs": [],
   "source": [
    "loan_data=loan_data.drop('Loan_ID',axis=1)\n",
    "test_data=test_data.drop('Loan_ID',axis=1)"
   ]
  },
  {
   "cell_type": "code",
   "execution_count": null,
   "metadata": {
    "id": "7QjdWr59lKUS"
   },
   "outputs": [],
   "source": [
    "X = loan_data.drop('Loan_Status',axis=1)\n",
    "y = loan_data.Loan_Status"
   ]
  },
  {
   "cell_type": "code",
   "execution_count": null,
   "metadata": {
    "id": "j2t71xLVmEim"
   },
   "outputs": [],
   "source": [
    "train = loan_data.copy()\n",
    "test = test_data.copy()"
   ]
  },
  {
   "cell_type": "code",
   "execution_count": null,
   "metadata": {
    "id": "bGgVNwc8lh0k"
   },
   "outputs": [],
   "source": [
    "X = pd.get_dummies(X)\n",
    "train=pd.get_dummies(train)\n",
    "test=pd.get_dummies(test)"
   ]
  },
  {
   "cell_type": "code",
   "execution_count": null,
   "metadata": {
    "id": "pWRH9TuDmFys"
   },
   "outputs": [],
   "source": [
    "from sklearn.model_selection import train_test_split\n",
    "x_train, x_valid, y_train, y_valid = train_test_split(X,y, test_size=0.3)"
   ]
  },
  {
   "cell_type": "code",
   "execution_count": null,
   "metadata": {
    "colab": {
     "base_uri": "https://localhost:8080/"
    },
    "id": "dVUlzchwmmaQ",
    "outputId": "c20f83da-9f2c-4c39-a0cd-9d9b18c4a8fb"
   },
   "outputs": [],
   "source": [
    "from sklearn.linear_model import LogisticRegression\n",
    "from sklearn.metrics import accuracy_score, f1_score\n",
    "model = LogisticRegression()\n",
    "model.fit(x_train, y_train)\n",
    "# LogisticRegression(C=1.0, class_weight=None, dual=False, fit_intercept=True, intercept_scaling=1, max_iter=100, multi_class='ovr', n_jobs=1, penalty='12',random_state=1, solver='liblinear', tol=0.0001, verbose=0, warm_start=False)"
   ]
  },
  {
   "cell_type": "code",
   "execution_count": null,
   "metadata": {
    "colab": {
     "base_uri": "https://localhost:8080/"
    },
    "id": "SnWJ9ZJgmx4a",
    "outputId": "9b1b2256-fba8-4cb8-e495-2c2a94b54bca"
   },
   "outputs": [],
   "source": [
    "pred_cv = model.predict(x_valid)\n",
    "print('Model Accuracy = ', accuracy_score(y_valid,pred_cv))\n",
    "print('Model F1-Score = ', f1_score(y_valid,pred_cv))"
   ]
  },
  {
   "cell_type": "markdown",
   "metadata": {
    "id": "eanyJrbHniCW"
   },
   "source": [
    "So our predictions are almost 80% accurate, i.e. we have identified 80% of the loan status correctly.\n",
    "\n",
    "Let’s make predictions for the test dataset."
   ]
  },
  {
   "cell_type": "code",
   "execution_count": null,
   "metadata": {
    "id": "8wb8LtVLm6hT"
   },
   "outputs": [],
   "source": [
    "pred_test = model.predict(test)"
   ]
  },
  {
   "cell_type": "markdown",
   "metadata": {
    "id": "iXdryvVnnp4f"
   },
   "source": [
    "## __Prediction Test data & Downloading it to check the solver__"
   ]
  },
  {
   "cell_type": "code",
   "execution_count": null,
   "metadata": {
    "colab": {
     "base_uri": "https://localhost:8080/",
     "height": 17
    },
    "id": "ZmHXGzUQnnbT",
    "outputId": "916ecd62-57c2-4362-a09a-e94a6f5f06ef"
   },
   "outputs": [],
   "source": [
    "# To create Dataframe of predicted value with particular respective index\n",
    "res = pd.DataFrame(pred_test) #preditcions are nothing but the final predictions of your model on input features of your new unseen test data\n",
    "res.index = test_data.index # its important for comparison. Here \"test_new\" is your new test dataset\n",
    "res.columns = [\"prediction\"]\n",
    "\n",
    "# To download the csv file locally\n",
    "from google.colab import files\n",
    "res.to_csv('datathon_loan_lr.csv', index=False)         \n",
    "files.download('datathon_loan_lr.csv')"
   ]
  },
  {
   "cell_type": "markdown",
   "metadata": {
    "id": "nE6QPSTvpAzh"
   },
   "source": [
    "Got a score : __#9\t`ayoubberd`\t85.39325842696628__"
   ]
  },
  {
   "cell_type": "markdown",
   "metadata": {
    "id": "Kfnh78Ado_HE"
   },
   "source": [
    "## Logistic Regression using stratified k-folds cross validation"
   ]
  },
  {
   "cell_type": "code",
   "execution_count": null,
   "metadata": {
    "id": "BY4feSybocP8"
   },
   "outputs": [],
   "source": [
    "from sklearn.model_selection import StratifiedKFold"
   ]
  },
  {
   "cell_type": "code",
   "execution_count": null,
   "metadata": {
    "colab": {
     "base_uri": "https://localhost:8080/"
    },
    "id": "qXf4PE6LpiPX",
    "outputId": "0bf1878d-1b91-4a60-d9c9-04d1e489aaa0"
   },
   "outputs": [],
   "source": [
    "i=1\n",
    "mean = 0\n",
    "fmean = 0\n",
    "kf = StratifiedKFold(n_splits=5,random_state=1)\n",
    "for train_index,test_index in kf.split(X,y):\n",
    "    print ('\\n{} of kfold {} '.format(i,kf.n_splits))\n",
    "    xtr,xvl = X.loc[train_index],X.loc[test_index]\n",
    "    ytr,yvl = y[train_index],y[test_index]\n",
    "    model = LogisticRegression(random_state=1)\n",
    "    model.fit(xtr,ytr)\n",
    "    pred_test=model.predict(xvl)\n",
    "    score=accuracy_score(yvl,pred_test)\n",
    "    f1score = f1_score(yvl,pred_test)\n",
    "    mean += score\n",
    "    fmean += f1score\n",
    "    print('#######################')\n",
    "    print ('accuracy_score',score)\n",
    "    print('-------------------------')\n",
    "    print ('F1 Score ',f1score)\n",
    "    print('#######################')\n",
    "    i+=1\n",
    "    pred_test_f = model.predict(test)\n",
    "    pred = model.predict_proba(xvl)[:,1]\n",
    "\n",
    "print('----------- Final Mean Score---------------')    \n",
    "print('###########################################')\n",
    "print ('\\n Mean Validation Accuracy',mean/(i-1))\n",
    "print ('\\n Mean Validation F1 Score',fmean/(i-1))\n",
    "print('###########################################')\n",
    "print('-------------------------------------------')    \n"
   ]
  },
  {
   "cell_type": "markdown",
   "metadata": {
    "id": "wHrh6Ti3qpos"
   },
   "source": [
    "* The mean validation accuracy for this model turns out to be __0.7922__ . \n",
    "\n",
    "* The mean validation f1 score for this model turns out to be __0.8639__ . \n",
    "\n",
    "Let us visualize the roc curve."
   ]
  },
  {
   "cell_type": "code",
   "execution_count": null,
   "metadata": {
    "colab": {
     "base_uri": "https://localhost:8080/",
     "height": 497
    },
    "id": "0GgWt0PJqiRf",
    "outputId": "e9ea4ba2-fc8a-4f5c-ee3f-d82cd35cbab6"
   },
   "outputs": [],
   "source": [
    "from sklearn import metrics\n",
    "fpr, tpr, _ = metrics.roc_curve(yvl, pred)\n",
    "auc = metrics.roc_auc_score(yvl, pred)\n",
    "plt.figure(figsize=(12,8))\n",
    "plt.plot(fpr, tpr, label=\"validation, auc=\"+str(auc))\n",
    "plt.xlabel('False Positive Rate')\n",
    "plt.ylabel('True Positive Rate')\n",
    "plt.legend(loc=4)\n",
    "plt.show()"
   ]
  },
  {
   "cell_type": "markdown",
   "metadata": {
    "id": "AxIStrnZrEfr"
   },
   "source": [
    "* We got an `auc` value of __0.8176__"
   ]
  },
  {
   "cell_type": "code",
   "execution_count": null,
   "metadata": {
    "colab": {
     "base_uri": "https://localhost:8080/",
     "height": 17
    },
    "id": "T1fx6YX5q8YL",
    "outputId": "e56ee654-0f1a-4344-86f7-4f53994240ad"
   },
   "outputs": [],
   "source": [
    "# To create Dataframe of predicted value with particular respective index\n",
    "res = pd.DataFrame(pred_test_f) #preditcions are nothing but the final predictions of your model on input features of your new unseen test data\n",
    "res.index = test_data.index # its important for comparison. Here \"test_new\" is your new test dataset\n",
    "res.columns = [\"prediction\"]\n",
    "\n",
    "# To download the csv file locally\n",
    "from google.colab import files\n",
    "res.to_csv('datathon_loan_lr_crosval.csv', index=False)         \n",
    "files.download('datathon_loan_lr_crosval.csv')"
   ]
  },
  {
   "cell_type": "markdown",
   "metadata": {
    "id": "zmFCdRFutXVX"
   },
   "source": [
    "Got a score : __\t`ayoubberd`\t84.91620111731845__"
   ]
  },
  {
   "cell_type": "markdown",
   "metadata": {
    "id": "qlHhGkSytRng"
   },
   "source": [
    "## Feature Engineering"
   ]
  },
  {
   "cell_type": "code",
   "execution_count": null,
   "metadata": {
    "id": "w8p-pr7arn1k"
   },
   "outputs": [],
   "source": [
    "train['Total_Income']=train['ApplicantIncome']+train['CoapplicantIncome']\n",
    "test['Total_Income']=test['ApplicantIncome']+test['CoapplicantIncome']"
   ]
  },
  {
   "cell_type": "markdown",
   "metadata": {
    "id": "M3Xo2Z84t1V8"
   },
   "source": [
    "Let’s check the distribution of Total Income."
   ]
  },
  {
   "cell_type": "code",
   "execution_count": null,
   "metadata": {
    "colab": {
     "base_uri": "https://localhost:8080/",
     "height": 297
    },
    "id": "fvyaGBeytouD",
    "outputId": "cf7db249-926c-471f-d9c3-7f75d16d4dd5"
   },
   "outputs": [],
   "source": [
    "sns.distplot(train['Total_Income'])"
   ]
  },
  {
   "cell_type": "markdown",
   "metadata": {
    "id": "pZabr302uIpZ"
   },
   "source": [
    "We can see it is shifted towards left, i.e., the distribution is right skewed. So, let’s take the log transformation to make the distribution normal."
   ]
  },
  {
   "cell_type": "code",
   "execution_count": null,
   "metadata": {
    "colab": {
     "base_uri": "https://localhost:8080/",
     "height": 280
    },
    "id": "y7Of9HD5t6Nf",
    "outputId": "1589a490-defa-4152-a157-26445a78c041"
   },
   "outputs": [],
   "source": [
    "train['Total_Income_log'] = np.log(train['Total_Income'])\n",
    "sns.distplot(train['Total_Income_log'])\n",
    "test['Total_Income_log'] = np.log(test['Total_Income'])"
   ]
  },
  {
   "cell_type": "markdown",
   "metadata": {
    "id": "pc9G3_VeuQjg"
   },
   "source": [
    "Now the distribution looks much closer to normal and the effect of extreme values has been significantly subsided. Let's create the EMI feature now."
   ]
  },
  {
   "cell_type": "code",
   "execution_count": null,
   "metadata": {
    "id": "cFMW9fg-uN8e"
   },
   "outputs": [],
   "source": [
    "train['EMI']=train['LoanAmount']/train['Loan_Amount_Term']\n",
    "test['EMI']=test['LoanAmount']/test['Loan_Amount_Term']"
   ]
  },
  {
   "cell_type": "markdown",
   "metadata": {
    "id": "RVuQBgkbuUY6"
   },
   "source": [
    "Let’s check the distribution of EMI variable.\n"
   ]
  },
  {
   "cell_type": "code",
   "execution_count": null,
   "metadata": {
    "colab": {
     "base_uri": "https://localhost:8080/",
     "height": 296
    },
    "id": "SWUXmVlBuSNf",
    "outputId": "0ec8a6da-5feb-4d18-9eea-7c4b3f4d04fc"
   },
   "outputs": [],
   "source": [
    "sns.distplot(train['EMI'])"
   ]
  },
  {
   "cell_type": "markdown",
   "metadata": {
    "id": "5CaX8WeJuZA7"
   },
   "source": [
    "Let us create Balance Income feature now and check its distribution."
   ]
  },
  {
   "cell_type": "code",
   "execution_count": null,
   "metadata": {
    "colab": {
     "base_uri": "https://localhost:8080/",
     "height": 296
    },
    "id": "zW3TPfZMuWIj",
    "outputId": "0daf4cfb-6e60-465c-bb6d-f9f716167110"
   },
   "outputs": [],
   "source": [
    "train['Balance Income'] = train['Total_Income']-(train['EMI']*1000)\n",
    "test['Balance Income'] = test['Total_Income']-(test['EMI']*1000)\n",
    "sns.distplot(train['Balance Income'])"
   ]
  },
  {
   "cell_type": "code",
   "execution_count": null,
   "metadata": {
    "id": "703IC3RBua90"
   },
   "outputs": [],
   "source": [
    "train=train.drop(['ApplicantIncome', 'CoapplicantIncome', 'LoanAmount', 'Loan_Amount_Term'], axis=1)\n",
    "test=test.drop(['ApplicantIncome', 'CoapplicantIncome', 'LoanAmount', 'Loan_Amount_Term'], axis=1)"
   ]
  },
  {
   "cell_type": "markdown",
   "metadata": {
    "id": "YKFCHkO4viOt"
   },
   "source": [
    "## __Part II__\n",
    "\n",
    "After creating new features, we can continue the model building process. \n",
    "\n",
    "So we will start with logistic regression model and then move over to more complex models like RandomForest and XGBoost. \n",
    "\n",
    "We will build the following models in this section.\n",
    "\n",
    "* Logistic Regression\n",
    "* Decision Tree\n",
    "* Random Forest\n",
    "* XGBoost\n",
    "\n",
    "Let’s prepare the data for feeding into the models."
   ]
  },
  {
   "cell_type": "code",
   "execution_count": null,
   "metadata": {
    "id": "hk2eYK7Iu5HW"
   },
   "outputs": [],
   "source": [
    "X = train.drop('Loan_Status', axis= 1)\n",
    "y = train.Loan_Status"
   ]
  },
  {
   "cell_type": "markdown",
   "metadata": {
    "id": "sfUDsD-Dv1j1"
   },
   "source": [
    "### __Logistic Regression__"
   ]
  },
  {
   "cell_type": "code",
   "execution_count": null,
   "metadata": {
    "colab": {
     "base_uri": "https://localhost:8080/"
    },
    "id": "t7xHJ6Zcvw0C",
    "outputId": "98469335-c91f-4453-8710-010db10934ed"
   },
   "outputs": [],
   "source": [
    "i=1\n",
    "mean = 0\n",
    "fmean = 0\n",
    "print('----------- After Features Engineering---------------')    \n",
    "kf = StratifiedKFold(n_splits=5,random_state=1)\n",
    "for train_index,test_index in kf.split(X,y):\n",
    "    print ('\\n{} of kfold {} '.format(i,kf.n_splits))\n",
    "    xtr,xvl = X.loc[train_index],X.loc[test_index]\n",
    "    ytr,yvl = y[train_index],y[test_index]\n",
    "    model = LogisticRegression(random_state=1)\n",
    "    model.fit(xtr,ytr)\n",
    "    pred_test=model.predict(xvl)\n",
    "    score=accuracy_score(yvl,pred_test)\n",
    "    f1score = f1_score(yvl,pred_test)\n",
    "    mean += score\n",
    "    fmean += f1score\n",
    "    print('#######################')\n",
    "    print ('accuracy_score',score)\n",
    "    print('-------------------------')\n",
    "    print ('F1 Score ',f1score)\n",
    "    print('#######################')\n",
    "    i+=1\n",
    "    pred_test_fe = model.predict(test)\n",
    "    pred = model.predict_proba(xvl)[:,1]\n",
    "\n",
    "\n",
    "print('----------- Final Mean Score---------------')    \n",
    "print('###########################################')\n",
    "print ('\\n Mean Validation Accuracy',mean/(i-1))\n",
    "print ('\\n Mean Validation F1 Score',fmean/(i-1))\n",
    "print('###########################################')\n",
    "print('-------------------------------------------')    \n"
   ]
  },
  {
   "cell_type": "code",
   "execution_count": null,
   "metadata": {
    "colab": {
     "base_uri": "https://localhost:8080/",
     "height": 497
    },
    "id": "rD0PgpqKw5ID",
    "outputId": "06e7d89e-f82a-47ab-8d1f-ade01ed50d48"
   },
   "outputs": [],
   "source": [
    "from sklearn import metrics\n",
    "fpr, tpr, _ = metrics.roc_curve(yvl, pred)\n",
    "auc = metrics.roc_auc_score(yvl, pred)\n",
    "plt.figure(figsize=(12,8))\n",
    "plt.plot(fpr, tpr, label=\"validation, auc=\"+str(auc))\n",
    "plt.xlabel('False Positive Rate')\n",
    "plt.ylabel('True Positive Rate')\n",
    "plt.legend(loc=4)\n",
    "plt.show()"
   ]
  },
  {
   "cell_type": "code",
   "execution_count": null,
   "metadata": {
    "colab": {
     "base_uri": "https://localhost:8080/",
     "height": 17
    },
    "id": "Jl584oxbwFYs",
    "outputId": "c5a59c00-aa01-490a-aa9b-50d73ce8f17c"
   },
   "outputs": [],
   "source": [
    "# To create Dataframe of predicted value with particular respective index\n",
    "res = pd.DataFrame(pred_test_fe) #preditcions are nothing but the final predictions of your model on input features of your new unseen test data\n",
    "res.index = test_data.index # its important for comparison. Here \"test_new\" is your new test dataset\n",
    "res.columns = [\"prediction\"]\n",
    "\n",
    "# To download the csv file locally\n",
    "from google.colab import files\n",
    "res.to_csv('datathon_loan_lr_fe.csv', index=False)         \n",
    "files.download('datathon_loan_lr_fe.csv')"
   ]
  },
  {
   "cell_type": "markdown",
   "metadata": {
    "id": "wYU8kbNcy6DP"
   },
   "source": [
    "Solver Got Score __#5\tayoubberd\t86.1878453038674__   \n",
    "\n",
    "Day : __23/12/2020 at 19:03__"
   ]
  },
  {
   "cell_type": "markdown",
   "metadata": {
    "id": "XiDJG-CyxbCX"
   },
   "source": [
    "### __Decision Tree__"
   ]
  },
  {
   "cell_type": "code",
   "execution_count": null,
   "metadata": {
    "colab": {
     "base_uri": "https://localhost:8080/"
    },
    "id": "ExGSOt4xxEic",
    "outputId": "b418ba16-edb7-42de-d6fe-4c2f3dded457"
   },
   "outputs": [],
   "source": [
    "from sklearn.tree import  DecisionTreeClassifier\n",
    "i=1\n",
    "mean = 0\n",
    "fmean = 0\n",
    "print('----------- After Features Engineering---------------')    \n",
    "kf = StratifiedKFold(n_splits=5,random_state=1)\n",
    "for train_index,test_index in kf.split(X,y):\n",
    "    print ('\\n{} of kfold {} '.format(i,kf.n_splits))\n",
    "    xtr,xvl = X.loc[train_index],X.loc[test_index]\n",
    "    ytr,yvl = y[train_index],y[test_index]\n",
    "    model_tree = DecisionTreeClassifier(random_state=1)\n",
    "    model_tree.fit(xtr,ytr)\n",
    "    pred_test=model_tree.predict(xvl)\n",
    "    score=accuracy_score(yvl,pred_test)\n",
    "    f1score = f1_score(yvl,pred_test)\n",
    "    mean += score\n",
    "    fmean += f1score\n",
    "    print('#######################')\n",
    "    print ('accuracy_score',score)\n",
    "    print('-------------------------')\n",
    "    print ('F1 Score ',f1score)\n",
    "    print('#######################')\n",
    "    i+=1\n",
    "    pred_test_tree = model_tree.predict(test)\n",
    "    pred = model_tree.predict_proba(xvl)[:,1]\n",
    "\n",
    "\n",
    "print('----------- Final Mean Score---------------')    \n",
    "print('###########################################')\n",
    "print ('\\n Mean Validation Accuracy',mean/(i-1))\n",
    "print ('\\n Mean Validation F1 Score',fmean/(i-1))\n",
    "print('###########################################')\n",
    "print('-------------------------------------------')    "
   ]
  },
  {
   "cell_type": "code",
   "execution_count": null,
   "metadata": {
    "id": "xYKFkn_-yN4Y"
   },
   "outputs": [],
   "source": []
  }
 ],
 "metadata": {
  "colab": {
   "collapsed_sections": [],
   "name": "ML_AdvancedBootCamp_Assignment 3: Advanced: Loan or No Loan?.ipynb",
   "provenance": []
  },
  "kernelspec": {
   "display_name": "Python 3 (ipykernel)",
   "language": "python",
   "name": "python3"
  },
  "language_info": {
   "codemirror_mode": {
    "name": "ipython",
    "version": 3
   },
   "file_extension": ".py",
   "mimetype": "text/x-python",
   "name": "python",
   "nbconvert_exporter": "python",
   "pygments_lexer": "ipython3",
   "version": "3.9.0"
  }
 },
 "nbformat": 4,
 "nbformat_minor": 4
}
