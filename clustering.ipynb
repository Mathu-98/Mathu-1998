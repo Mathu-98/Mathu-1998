{
 "cells": [
  {
   "cell_type": "code",
   "execution_count": 4,
   "id": "03631aef",
   "metadata": {},
   "outputs": [
    {
     "ename": "ModuleNotFoundError",
     "evalue": "No module named 'plotly'",
     "output_type": "error",
     "traceback": [
      "\u001b[1;31m---------------------------------------------------------------------------\u001b[0m",
      "\u001b[1;31mModuleNotFoundError\u001b[0m                       Traceback (most recent call last)",
      "Cell \u001b[1;32mIn[4], line 4\u001b[0m\n\u001b[0;32m      2\u001b[0m \u001b[38;5;28;01mimport\u001b[39;00m \u001b[38;5;21;01mnumpy\u001b[39;00m \u001b[38;5;28;01mas\u001b[39;00m \u001b[38;5;21;01mnp\u001b[39;00m\n\u001b[0;32m      3\u001b[0m \u001b[38;5;28;01mimport\u001b[39;00m \u001b[38;5;21;01mseaborn\u001b[39;00m \u001b[38;5;28;01mas\u001b[39;00m \u001b[38;5;21;01msns\u001b[39;00m\n\u001b[1;32m----> 4\u001b[0m \u001b[38;5;28;01mimport\u001b[39;00m \u001b[38;5;21;01mplotly\u001b[39;00m\u001b[38;5;21;01m.\u001b[39;00m\u001b[38;5;21;01mgraph_objects\u001b[39;00m \u001b[38;5;28;01mas\u001b[39;00m \u001b[38;5;21;01mgo\u001b[39;00m\n\u001b[0;32m      5\u001b[0m \u001b[38;5;28;01mimport\u001b[39;00m \u001b[38;5;21;01mplotly\u001b[39;00m\u001b[38;5;21;01m.\u001b[39;00m\u001b[38;5;21;01mexpress\u001b[39;00m \u001b[38;5;28;01mas\u001b[39;00m \u001b[38;5;21;01mpx\u001b[39;00m\n\u001b[0;32m      6\u001b[0m \u001b[38;5;28;01mfrom\u001b[39;00m \u001b[38;5;21;01mplotly\u001b[39;00m\u001b[38;5;21;01m.\u001b[39;00m\u001b[38;5;21;01msubplots\u001b[39;00m \u001b[38;5;28;01mimport\u001b[39;00m make_subplots\n",
      "\u001b[1;31mModuleNotFoundError\u001b[0m: No module named 'plotly'"
     ]
    }
   ],
   "source": [
    "import pandas as pd \n",
    "import numpy as np\n",
    "import seaborn as sns\n",
    "import plotly.graph_objects as go\n",
    "import plotly.express as px\n",
    "from plotly.subplots import make_subplots\n",
    "from matplotlib import colors\n",
    "import matplotlib.pyplot as plt\n",
    "%matplotlib inline\n",
    "from itertools import product\n",
    "import missingno\n",
    "\n",
    "# Preprocessing Data\n",
    "from sklearn.experimental import enable_iterative_imputer\n",
    "from sklearn.impute import IterativeImputer\n",
    "\n",
    "# Modeling\n",
    "!pip install scikit-learn-extra\n",
    "from sklearn_extra.cluster import KMedoids\n",
    "from sklearn.cluster import KMeans\n",
    "from scipy.spatial.distance import cdist, pdist\n",
    "from sklearn.decomposition import PCA\n",
    "from sklearn.cluster import AgglomerativeClustering, Birch\n",
    "from sklearn.metrics import silhouette_score, davies_bouldin_score, calinski_harabasz_score\n",
    "\n",
    "# Handling Warning\n",
    "import warnings\n",
    "warnings.filterwarnings('ignore')"
   ]
  },
  {
   "cell_type": "code",
   "execution_count": null,
   "id": "bbaa6037",
   "metadata": {},
   "outputs": [],
   "source": [
    "df = pd.read_csv('CC GENERAL.csv')\n",
    "\n",
    "# We convert name of feature to lower font\n",
    "df.columns = map(str.lower, df.columns)\n",
    "df.head()"
   ]
  },
  {
   "cell_type": "code",
   "execution_count": null,
   "id": "da9b9999",
   "metadata": {},
   "outputs": [],
   "source": [
    "df_wo_id = df.drop('cust_id', axis=1)"
   ]
  },
  {
   "cell_type": "code",
   "execution_count": null,
   "id": "14222377",
   "metadata": {},
   "outputs": [],
   "source": [
    "fig = plt.figure(figsize=(30, 25), constrained_layout=True)\n",
    "for i in range(len(df_wo_id.columns)):\n",
    "    plt.subplot(6, 3, i+1)\n",
    "    sns.histplot(df_wo_id[df_wo_id.columns[i]], kde=True)"
   ]
  },
  {
   "cell_type": "code",
   "execution_count": null,
   "id": "60338dd4",
   "metadata": {},
   "outputs": [],
   "source": [
    "sns.pairplot(data=df_wo_id, x_vars='credit_limit', y_vars='balance', \n",
    "             height=6, aspect=1.5).map(sns.kdeplot, levels=1, color='red');"
   ]
  },
  {
   "cell_type": "code",
   "execution_count": null,
   "id": "5cb6383c",
   "metadata": {},
   "outputs": [],
   "source": [
    "sns.pairplot(data=df_wo_id, \n",
    "             y_vars=['balance', 'credit_limit'], \n",
    "             x_vars=['purchases', 'oneoff_purchases', 'installments_purchases', 'cash_advance'],\n",
    "            height=6, aspect=1.4).map(sns.kdeplot, levels=1, color='red')"
   ]
  },
  {
   "cell_type": "code",
   "execution_count": null,
   "id": "08a29b82",
   "metadata": {},
   "outputs": [],
   "source": [
    "print(len(df_wo_id[df_wo_id['purchases_installments_frequency'] > .5]), 'purchases_installments_frequency')\n",
    "print(len(df_wo_id[df_wo_id['oneoff_purchases_frequency'] > .5]), 'oneoff')"
   ]
  },
  {
   "cell_type": "code",
   "execution_count": null,
   "id": "107ccac4",
   "metadata": {},
   "outputs": [],
   "source": [
    "plt.figure(figsize=(7,7))\n",
    "plt.pie([len(df_wo_id[df_wo_id['purchases_installments_frequency'] > .5]),\n",
    "         len(df_wo_id[df_wo_id['oneoff_purchases_frequency'] > .5])], \n",
    "        labels = ['purchases_installments_frequency', \n",
    "                  'oneoff_purchases_frequency'], \n",
    "        autopct='%.0f%%')\n",
    "plt.title('purchases_installments_frequency VS oneoff_purchases_frequency (>0.5)');\n"
   ]
  },
  {
   "cell_type": "code",
   "execution_count": null,
   "id": "097ce26e",
   "metadata": {},
   "outputs": [],
   "source": [
    "sns.pairplot(data=df_wo_id, y_vars='payments', x_vars='minimum_payments', \n",
    "             height=6, aspect=1.4).map(sns.kdeplot, levels=1, color='red');\n"
   ]
  },
  {
   "cell_type": "code",
   "execution_count": null,
   "id": "5fca6dc7",
   "metadata": {},
   "outputs": [],
   "source": [
    "plt.figure(figsize=(18, 14))\n",
    "columns=['purchases','oneoff_purchases','installments_purchases','cash_advance','credit_limit','payments']\n",
    "n=1\n",
    "for x in columns:\n",
    "    plt.subplot(2,3,n)\n",
    "    plt.scatter(df_wo_id['balance'], df_wo_id[x], alpha=0.25)\n",
    "    plt.xlabel('Balance')\n",
    "    plt.ylabel(x)\n",
    "    n=n+1\n",
    "plt.ticklabel_format(useOffset=False, style='plain')\n",
    "plt.show()"
   ]
  },
  {
   "cell_type": "code",
   "execution_count": null,
   "id": "ea33a1a1",
   "metadata": {},
   "outputs": [],
   "source": [
    "plt.figure(figsize=(18, 14))\n",
    "columns=['oneoff_purchases','installments_purchases','cash_advance','payments']\n",
    "n=1\n",
    "for x in columns:\n",
    "    plt.subplot(2,2,n)\n",
    "    plt.scatter(df_wo_id['credit_limit'], df_wo_id[x], alpha=0.25)\n",
    "    plt.xlabel('Credit Limit')\n",
    "    plt.ylabel(x)\n",
    "    n=n+1\n",
    "plt.ticklabel_format(useOffset=False, style='plain')\n",
    "plt.show()"
   ]
  },
  {
   "cell_type": "code",
   "execution_count": null,
   "id": "b489464b",
   "metadata": {},
   "outputs": [],
   "source": [
    "correlation = df_wo_id.corr(method='pearson')\n",
    "\n",
    "# uses the variable ax for single a Axes\n",
    "fig, ax = plt.subplots()\n",
    "\n",
    "# sets the figure size in inches\n",
    "ax.figure.set_size_inches(20, 20)\n",
    "\n",
    "# generates a mask for the upper triangle\n",
    "mask = np.triu(np.ones_like(correlation, dtype=np.bool))\n",
    "\n",
    "# generates a custom diverging colormap\n",
    "cmap = sns.diverging_palette(220, 10, as_cmap=True)\n",
    "\n",
    "# plots the heatmap\n",
    "sns.heatmap(correlation, cmap=cmap, mask=mask, square=True, linewidths=.5, \n",
    "            annot=True, annot_kws={'size':14})\n",
    "\n",
    "# displays the plot\n",
    "plt.show()"
   ]
  },
  {
   "cell_type": "code",
   "execution_count": null,
   "id": "1acc700f",
   "metadata": {},
   "outputs": [],
   "source": [
    "df_wo_id.info()"
   ]
  },
  {
   "cell_type": "code",
   "execution_count": null,
   "id": "4696b4b0",
   "metadata": {},
   "outputs": [],
   "source": [
    "listItem = []\n",
    "for col in df_wo_id.columns :\n",
    "    listItem.append([col, df_wo_id[col].dtype, df_wo_id[col].isna().sum(), round((df_wo_id[col].isna().sum()/len(df_wo_id[col])) * 100,2),\n",
    "                    df_wo_id[col].nunique(), list(df_wo_id[col].drop_duplicates().sample(2).values)]);\n",
    "\n",
    "dfDesc = pd.DataFrame(columns=['dataFeatures', 'dataType', 'missing value', 'nullPct', 'unique', 'uniqueSample'],\n",
    "                     data=listItem)\n",
    "dfDesc"
   ]
  },
  {
   "cell_type": "code",
   "execution_count": null,
   "id": "9733945e",
   "metadata": {},
   "outputs": [],
   "source": [
    "hist_b_ho = df_wo_id.hist(bins=50,figsize=(30,20))\n",
    "hist_b_ho\n",
    "plt.show()"
   ]
  },
  {
   "cell_type": "code",
   "execution_count": null,
   "id": "f501c3d9",
   "metadata": {},
   "outputs": [],
   "source": [
    "\n",
    "plt.figure(figsize=(25,20))\n",
    "for i in range(len(df_wo_id.columns)):\n",
    "    plt.subplot(5,4,i+1)\n",
    "    sns.boxplot(df_wo_id[df_wo_id.columns[i]])\n",
    "    plt.title(df_wo_id.columns[i])\n",
    "    \n",
    "plt.tight_layout()"
   ]
  },
  {
   "cell_type": "code",
   "execution_count": null,
   "id": "5b88243f",
   "metadata": {},
   "outputs": [],
   "source": [
    "def find_outlier(df, feature):\n",
    "    print('Outlier ' + feature)\n",
    "    q1 = df[feature].quantile(0.25)\n",
    "    q3 = df[feature].quantile(0.75)\n",
    "    iqr = q3 - q1\n",
    "    limit = iqr*1.5\n",
    "    print(f'IQR: {iqr}')\n",
    "\n",
    "    Lower_Limit = q1 - limit\n",
    "    Upper_Limit = q3 + limit\n",
    "    print(f'Lower_Limit: {Lower_Limit}')\n",
    "    print(f'Upper_Limit: {Upper_Limit}')\n",
    "    print('_________________________')"
   ]
  },
  {
   "cell_type": "code",
   "execution_count": null,
   "id": "31e32a5b",
   "metadata": {},
   "outputs": [],
   "source": [
    "for i in df_wo_id :\n",
    "    find_outlier(df_wo_id, i)"
   ]
  },
  {
   "cell_type": "code",
   "execution_count": null,
   "id": "df1ac780",
   "metadata": {},
   "outputs": [],
   "source": [
    "out1 = df_wo_id[df_wo_id['balance'] > 4942.9272155]\n",
    "out2 = df_wo_id[(df_wo_id['balance_frequency'] < 0.7222225000000001) & (df['balance_frequency'] > 1.1666664999999998)]\n",
    "out3 = df_wo_id[df_wo_id['purchases'] > 2715.8725000000004]\n",
    "out4 = df_wo_id[df_wo_id['oneoff_purchases'] > 1443.5124999999998]\n",
    "out5 = df_wo_id[df_wo_id['installments_purchases'] > 1171.59375]\n",
    "out6 = df_wo_id[df_wo_id['cash_advance'] > 2784.5528481250003]\n",
    "out7 = df_wo_id[df_wo_id['purchases_frequency'] > 2.166668]\n",
    "out8 = df_wo_id[df_wo_id['oneoff_purchases_frequency'] > 0.75]\n",
    "out9 = df_wo_id[df_wo_id['purchases_installments_frequency'] > 1.875]\n",
    "out10 = df_wo_id[df_wo_id['cash_advance_frequency'] > 0.555555]\n",
    "out11 = df_wo_id[df_wo_id['cash_advance_trx'] > 10.0]\n",
    "out12 = df_wo_id[df_wo_id['purchases_trx'] > 41.0]\n",
    "out13 = df_wo_id[df_wo_id['credit_limit'] > 13850.0]\n",
    "out14 = df_wo_id[df_wo_id['payments'] > 4177.921542875]\n",
    "out15 = df_wo_id[df_wo_id['minimum_payments'] > 1810.0280870000001]\n",
    "out16 = df_wo_id[df_wo_id['prc_full_payment'] > 0.35714250000000003]\n",
    "out17 = df_wo_id[(df_wo_id['tenure'] != 12.0)]"
   ]
  },
  {
   "cell_type": "code",
   "execution_count": null,
   "id": "38a6c880",
   "metadata": {},
   "outputs": [],
   "source": [
    "out_all = pd.concat([out1, out2, out3, out4, out5, out6, out7, out8, out9, out10, out11, out12, out13, out14, out15, out16, out17], axis = 0)\n",
    "out_all.drop_duplicates(inplace=True)\n",
    "out_all"
   ]
  },
  {
   "cell_type": "code",
   "execution_count": null,
   "id": "0171d177",
   "metadata": {},
   "outputs": [],
   "source": [
    "print('Percentage Outlier')\n",
    "len(out_all)/len(df)*100"
   ]
  },
  {
   "cell_type": "code",
   "execution_count": null,
   "id": "749fb642",
   "metadata": {},
   "outputs": [],
   "source": [
    "df_wo_id[df_wo_id['balance'] > df_wo_id['credit_limit']]"
   ]
  },
  {
   "cell_type": "code",
   "execution_count": null,
   "id": "61ac7a58",
   "metadata": {},
   "outputs": [],
   "source": [
    "df_wo_id[df_wo_id['minimum_payments'] > df_wo_id['payments']]"
   ]
  },
  {
   "cell_type": "code",
   "execution_count": null,
   "id": "55e5c1af",
   "metadata": {},
   "outputs": [],
   "source": [
    "df_wo_id[df_wo_id['installments_purchases'] > df_wo_id['credit_limit']]"
   ]
  },
  {
   "cell_type": "code",
   "execution_count": null,
   "id": "c1c3587d",
   "metadata": {},
   "outputs": [],
   "source": [
    "# Anomaly 4\n",
    "df_wo_id[df_wo_id['cash_advance_frequency'] > 1]"
   ]
  },
  {
   "cell_type": "code",
   "execution_count": null,
   "id": "4c3ecbff",
   "metadata": {},
   "outputs": [],
   "source": [
    "cash_advance_freq_more_than_1 = df_wo_id[df_wo_id['cash_advance_frequency'] > 1].index\n",
    "df_wo_id['cash_advance_frequency'].iloc[cash_advance_freq_more_than_1] = 1\n",
    "\n",
    "#check whether there is still cash_advance_frequency above 1\n",
    "df_wo_id[df_wo_id['cash_advance_frequency'] > 1].cash_advance_frequency.any"
   ]
  },
  {
   "cell_type": "code",
   "execution_count": null,
   "id": "e3c0fbcd",
   "metadata": {},
   "outputs": [],
   "source": [
    "df_wo_id[df_wo_id.duplicated()]"
   ]
  },
  {
   "cell_type": "code",
   "execution_count": null,
   "id": "94acb5d3",
   "metadata": {},
   "outputs": [],
   "source": [
    "df_wo_id.isna().sum()"
   ]
  },
  {
   "cell_type": "code",
   "execution_count": null,
   "id": "2079df56",
   "metadata": {},
   "outputs": [],
   "source": [
    "missingno.bar(df_wo_id,color=\"dodgerblue\", sort=\"ascending\", figsize=(10,5), fontsize=12)\n"
   ]
  },
  {
   "cell_type": "code",
   "execution_count": null,
   "id": "3a65621e",
   "metadata": {},
   "outputs": [],
   "source": [
    "from sklearn.experimental import enable_iterative_imputer\n",
    "from sklearn.impute import IterativeImputer"
   ]
  },
  {
   "cell_type": "code",
   "execution_count": null,
   "id": "349ee9b3",
   "metadata": {},
   "outputs": [],
   "source": [
    "feat_cols = [col for col in df_wo_id.columns]\n",
    "\n",
    "itr_imputer = IterativeImputer(initial_strategy='median', \n",
    "                               min_value=0, random_state=2022)\n",
    "\n",
    "df[feat_cols] = itr_imputer.fit_transform(df[feat_cols])"
   ]
  },
  {
   "cell_type": "code",
   "execution_count": null,
   "id": "aa6a5f0b",
   "metadata": {},
   "outputs": [],
   "source": [
    "plt.figure(figsize = (15,10))\n",
    "sns.heatmap(df.isnull(), cmap='Blues', cbar=False, yticklabels=False, xticklabels=df.columns)\n"
   ]
  },
  {
   "cell_type": "code",
   "execution_count": null,
   "id": "329f0206",
   "metadata": {},
   "outputs": [],
   "source": [
    "df.info()"
   ]
  },
  {
   "cell_type": "code",
   "execution_count": null,
   "id": "64bb5448",
   "metadata": {},
   "outputs": [],
   "source": [
    "df_model = df.copy()"
   ]
  },
  {
   "cell_type": "code",
   "execution_count": null,
   "id": "10321c56",
   "metadata": {},
   "outputs": [],
   "source": [
    "df_model.drop(['cust_id', 'balance', 'purchases', \n",
    "           'cash_advance', 'cash_advance_trx', \n",
    "           'purchases_trx', 'credit_limit', \n",
    "           'payments', 'minimum_payments', 'tenure'], \n",
    "          axis=1, inplace=True, errors='ignore')\n",
    "df_model.columns"
   ]
  },
  {
   "cell_type": "code",
   "execution_count": null,
   "id": "cbdf3dfa",
   "metadata": {},
   "outputs": [],
   "source": [
    "oneoff_proportion = df_wo_id['oneoff_purchases'] / df_wo_id['purchases']\n",
    "\n",
    "# change installments_purchase to installments_proportion\n",
    "installments_proportion = df_wo_id['installments_purchases'] / df_wo_id['purchases']\n"
   ]
  },
  {
   "cell_type": "code",
   "execution_count": null,
   "id": "09ecf490",
   "metadata": {},
   "outputs": [],
   "source": [
    "df_model.rename(columns={'oneoff_purchases_frequency': 'oneoff_frequency',\n",
    "                     'purchases_installments_frequency': 'installments_frequency',\n",
    "                     'prc_full_payment': 'payments_proportion'},\n",
    "            inplace=True, errors='ignore')\n",
    "df_model.columns"
   ]
  },
  {
   "cell_type": "code",
   "execution_count": null,
   "id": "c0ee1561",
   "metadata": {},
   "outputs": [],
   "source": [
    "df_model.head().T"
   ]
  },
  {
   "cell_type": "code",
   "execution_count": null,
   "id": "228f566e",
   "metadata": {},
   "outputs": [],
   "source": [
    "def summary_stats(df_model, n=4):\n",
    "    # central tendency: mean, median\n",
    "    mean = pd.DataFrame(df_model.apply(np.mean)).T\n",
    "    median = pd.DataFrame(df_model.apply(np.median)).T\n",
    "\n",
    "    # distribution: ,std, min, max, range, skew, kurtosis\n",
    "    std = pd.DataFrame(df_model.apply(np.std)).T\n",
    "    min_value = pd.DataFrame(df_model.apply(min)).T\n",
    "    max_value = pd.DataFrame(df_model.apply(max)).T\n",
    "    range_value = pd.DataFrame(df_model.apply(lambda x: x.max() - x.min())).T\n",
    "    skewness = pd.DataFrame(df_model.apply(lambda x: x.skew())).T\n",
    "    kurtosis = pd.DataFrame(df_model.apply(lambda x: x.kurtosis())).T\n",
    "\n",
    "    # concatenates\n",
    "    summary_stats = pd.concat([min_value, max_value, range_value, mean, median, std, skewness, kurtosis]).T.reset_index()\n",
    "    summary_stats.columns = ['attributes','min','max', 'range','mean','median', 'std','skewness','kurtosis']\n",
    "    \n",
    "    return round(summary_stats, n)"
   ]
  },
  {
   "cell_type": "code",
   "execution_count": null,
   "id": "9fec522c",
   "metadata": {},
   "outputs": [],
   "source": [
    "summary_stats(df_model)"
   ]
  },
  {
   "cell_type": "code",
   "execution_count": null,
   "id": "68ad8028",
   "metadata": {},
   "outputs": [],
   "source": [
    "def proportion_anomalies():\n",
    "    nan_oneoff_proportion = np.isnan(oneoff_proportion).sum()\n",
    "    nan_installments_proportion = np.isnan(installments_proportion).sum()\n",
    "    inf_oneoff_proportion = np.isinf(oneoff_proportion).sum()\n",
    "    inf_installments_proportion = np.isinf(installments_proportion).sum()\n",
    "    more_than_1_oneoff_proportion = len(oneoff_proportion[oneoff_proportion > 1])\n",
    "    more_than_1_installments_proportion = len(installments_proportion[installments_proportion > 1])\n",
    "\n",
    "    proportion_anomalies = pd.DataFrame({'nan': [nan_oneoff_proportion, nan_installments_proportion],\n",
    "                                        'inf': [inf_oneoff_proportion, inf_installments_proportion],\n",
    "                                        'more_than_1': [more_than_1_oneoff_proportion, more_than_1_installments_proportion]},\n",
    "                                        index=['oneoff_proportion', 'installments_proportion'])\n",
    "\n",
    "    return proportion_anomalies"
   ]
  },
  {
   "cell_type": "code",
   "execution_count": null,
   "id": "50f3d40b",
   "metadata": {},
   "outputs": [],
   "source": [
    "proportion_anomalies()"
   ]
  },
  {
   "cell_type": "code",
   "execution_count": null,
   "id": "22ecda8d",
   "metadata": {},
   "outputs": [],
   "source": [
    "df_wo_id[np.isnan(installments_proportion)].loc[:, ['purchases', 'installments_purchases']].value_counts()\n"
   ]
  },
  {
   "cell_type": "code",
   "execution_count": null,
   "id": "c2f027af",
   "metadata": {},
   "outputs": [],
   "source": [
    "oneoff_proportion.fillna(0, inplace=True)\n",
    "installments_proportion.fillna(0, inplace=True)\n",
    "\n",
    "# check anomalies\n",
    "proportion_anomalies()"
   ]
  },
  {
   "cell_type": "code",
   "execution_count": null,
   "id": "bc2809a5",
   "metadata": {},
   "outputs": [],
   "source": [
    "df_wo_id.iloc[installments_proportion[installments_proportion == np.inf].index].iloc[:,2:5]\n"
   ]
  },
  {
   "cell_type": "code",
   "execution_count": null,
   "id": "1dd1f977",
   "metadata": {},
   "outputs": [],
   "source": [
    "inf_to_1 = installments_proportion[installments_proportion == np.inf].index\n",
    "installments_proportion.iloc[inf_to_1] = 1\n",
    "\n",
    "proportion_anomalies()"
   ]
  },
  {
   "cell_type": "code",
   "execution_count": null,
   "id": "e4613c59",
   "metadata": {},
   "outputs": [],
   "source": [
    "oneoff_more_than_1 = oneoff_proportion[oneoff_proportion > 1].index\n",
    "oneoff_proportion.iloc[oneoff_more_than_1] = 1\n",
    "\n",
    "installments_more_than_1 = installments_proportion[installments_proportion > 1].index\n",
    "installments_proportion.iloc[installments_more_than_1] = 1\n",
    "\n",
    "proportion_anomalies()"
   ]
  },
  {
   "cell_type": "code",
   "execution_count": null,
   "id": "f4950775",
   "metadata": {},
   "outputs": [],
   "source": [
    "df_model.oneoff_purchases = oneoff_proportion\n",
    "df_model.installments_purchases = installments_proportion"
   ]
  },
  {
   "cell_type": "code",
   "execution_count": null,
   "id": "bdb007b7",
   "metadata": {},
   "outputs": [],
   "source": [
    "df_model.rename(columns={'oneoff_purchases': 'oneoff_proportion',\n",
    "                     'installments_purchases': 'installments_proportion'},\n",
    "            inplace=True)\n",
    "df_model.head()"
   ]
  },
  {
   "cell_type": "code",
   "execution_count": null,
   "id": "ee203737",
   "metadata": {},
   "outputs": [],
   "source": [
    "summary_stats(df_model)"
   ]
  },
  {
   "cell_type": "code",
   "execution_count": null,
   "id": "4256e811",
   "metadata": {},
   "outputs": [],
   "source": [
    "number_of_cluster = np.arange(2,11) # Number of Clusters\n",
    "np.random.seed(2022)"
   ]
  },
  {
   "cell_type": "code",
   "execution_count": null,
   "id": "e0d6b458",
   "metadata": {},
   "outputs": [],
   "source": [
    "pca_all = PCA(n_components=len(df_model.columns), random_state = 2022)\n",
    "pca_all.fit(df_model)\n",
    "variance = pca_all.explained_variance_ratio_\n",
    "var = np.cumsum(variance)*100\n",
    "\n",
    "#plot for information extracted\n",
    "fig = px.line(x=np.arange(len(df_model.columns))+1, y=var, markers=True)\n",
    "fig.update_xaxes(title_text='# of Features')\n",
    "fig.update_yaxes(title_text='% Variance Explained')\n",
    "fig.update_layout(width=900)"
   ]
  },
  {
   "cell_type": "code",
   "execution_count": null,
   "id": "6cf31f63",
   "metadata": {},
   "outputs": [],
   "source": [
    "print('information extracted {} %'.format(np.sum(variance[:2])*100/np.sum(variance)))\n"
   ]
  },
  {
   "cell_type": "code",
   "execution_count": null,
   "id": "59bf3db3",
   "metadata": {},
   "outputs": [],
   "source": [
    "pca_n = PCA(n_components = 2, random_state = 2022) \n",
    "X_principal = pca_n.fit_transform(df_model)\n",
    "X_principal = pd.DataFrame(X_principal) \n",
    "X_principal.columns = ['P1', 'P2'] \n",
    "\n",
    "summary_stats(X_principal)"
   ]
  },
  {
   "cell_type": "code",
   "execution_count": null,
   "id": "25c5bd13",
   "metadata": {},
   "outputs": [],
   "source": [
    "fig = go.Figure(go.Scatter(\n",
    "    x=X_principal['P1'], y=X_principal['P2'], mode='markers'))\n",
    "fig.update_xaxes(title_text='P2')\n",
    "fig.update_yaxes(title_text='P1')\n",
    "fig.update_layout(height=700, width=700,\n",
    "                  title_text='Principal Component Analysis')"
   ]
  },
  {
   "cell_type": "code",
   "execution_count": null,
   "id": "6c0861c2",
   "metadata": {},
   "outputs": [],
   "source": [
    "ward_s_scores = []\n",
    "ward_db_scores = []\n",
    "ward_calinski_scores = []\n",
    "average_s_scores = []\n",
    "average_db_scores = []\n",
    "average_calinski_scores = []\n",
    "complete_s_scores = []\n",
    "complete_db_scores = []\n",
    "complete_calinski_scores = []\n",
    "\n",
    "agglo_metrics = {'ward': [ward_s_scores, ward_db_scores, ward_calinski_scores, 'rgb(128,177,211)'],\n",
    "                 'average': [average_s_scores, average_db_scores, average_calinski_scores, 'rgb(141,211,199)'],\n",
    "                 'complete': [complete_s_scores, complete_db_scores, complete_calinski_scores, 'rgb(251,128,114)']}\n",
    "\n",
    "for i, j in product(agglo_metrics, number_of_cluster):\n",
    "    agglo = AgglomerativeClustering(linkage=i, n_clusters=j)\n",
    "    agglo.fit(X_principal)\n",
    "    agglo_metrics[i][0].append(silhouette_score(\n",
    "        X_principal, agglo.labels_))\n",
    "    agglo_metrics[i][1].append(davies_bouldin_score(\n",
    "        X_principal, agglo.labels_))\n",
    "    agglo_metrics[i][2].append(calinski_harabasz_score(\n",
    "        X_principal, agglo.labels_))"
   ]
  },
  {
   "cell_type": "code",
   "execution_count": null,
   "id": "10d0cf47",
   "metadata": {},
   "outputs": [],
   "source": [
    "fig = make_subplots(rows=3, cols=1, shared_xaxes=True, vertical_spacing=.01)\n",
    "\n",
    "for i in agglo_metrics:\n",
    "    for j, k in zip(range(1, 4), ['Silhouette', 'Davies Bouldin', 'Calinski-Harabasz']):\n",
    "        fig.append_trace(go.Scatter(x=list(number_of_cluster), y=agglo_metrics[i][j-1], name=i.title(),\n",
    "                                    legendgroup=i, line_color=agglo_metrics[i][-1],\n",
    "                                    showlegend=False if j != 1 else True), row=j, col=1)\n",
    "        fig.update_yaxes(title_text=k, row=j, col=1)\n",
    "\n",
    "fig.update_xaxes(title_text='Number of Clusters', row=3)\n",
    "fig.update_layout(height=800, width=900,\n",
    "                  legend_title_text='Metrics',\n",
    "                  title_text='Agglomerative Clustering Metric Scores')"
   ]
  },
  {
   "cell_type": "code",
   "execution_count": null,
   "id": "e85a1e43",
   "metadata": {},
   "outputs": [],
   "source": [
    "ward_s_scores = []\n",
    "ward_db_scores = []\n",
    "ward_calinski_scores = []\n",
    "average_s_scores = []\n",
    "average_db_scores = []\n",
    "average_calinski_scores = []\n",
    "complete_s_scores = []\n",
    "complete_db_scores = []\n",
    "complete_calinski_scores = []\n",
    "\n",
    "agglo_metrics = {'ward': [ward_s_scores, ward_db_scores, ward_calinski_scores, 'rgb(128,177,211)'],\n",
    "                 'average': [average_s_scores, average_db_scores, average_calinski_scores, 'rgb(141,211,199)'],\n",
    "                 'complete': [complete_s_scores, complete_db_scores, complete_calinski_scores, 'rgb(251,128,114)']}\n",
    "\n",
    "for i, j in product(agglo_metrics, number_of_cluster):\n",
    "    agglo = AgglomerativeClustering(linkage=i, n_clusters=j)\n",
    "    agglo.fit(X_principal)\n",
    "    agglo_metrics[i][0].append(silhouette_score(\n",
    "        X_principal, agglo.labels_))\n",
    "    agglo_metrics[i][1].append(davies_bouldin_score(\n",
    "        X_principal, agglo.labels_))\n",
    "    agglo_metrics[i][2].append(calinski_harabasz_score(\n",
    "        X_principal, agglo.labels_))"
   ]
  },
  {
   "cell_type": "code",
   "execution_count": null,
   "id": "e1d31af1",
   "metadata": {},
   "outputs": [],
   "source": [
    "fig = make_subplots(rows=3, cols=1, shared_xaxes=True, vertical_spacing=.01)\n",
    "\n",
    "for i in agglo_metrics:\n",
    "    for j, k in zip(range(1, 4), ['Silhouette', 'Davies Bouldin', 'Calinski-Harabasz']):\n",
    "        fig.append_trace(go.Scatter(x=list(number_of_cluster), y=agglo_metrics[i][j-1], name=i.title(),\n",
    "                                    legendgroup=i, line_color=agglo_metrics[i][-1],\n",
    "                                    showlegend=False if j != 1 else True), row=j, col=1)\n",
    "        fig.update_yaxes(title_text=k, row=j, col=1)\n",
    "\n",
    "fig.update_xaxes(title_text='Number of Clusters', row=3)\n",
    "fig.update_layout(height=800, width=900,\n",
    "                  legend_title_text='Metrics',\n",
    "                  title_text='Agglomerative Clustering Metric Scores')\n",
    "#comparing result"
   ]
  },
  {
   "cell_type": "code",
   "execution_count": null,
   "id": "e4868a3d",
   "metadata": {},
   "outputs": [],
   "source": [
    "compare_agg = pd.DataFrame({'Method' : ['Ward', 'Average', 'Complete'],\n",
    "                  'n Cluster' :['7', '4', '7'],\n",
    "                  'Silhouete Score' : [ward_s_scores[5], average_s_scores[2], complete_s_scores[5]],\n",
    "                  'Davies Score' : [ward_db_scores[5], average_db_scores[2], complete_db_scores[5]],\n",
    "                  'Calinski Score' : [ward_calinski_scores[5], average_calinski_scores[2], complete_calinski_scores[5]]})\n",
    "compare_agg"
   ]
  },
  {
   "cell_type": "code",
   "execution_count": null,
   "id": "c86c5aed",
   "metadata": {},
   "outputs": [],
   "source": [
    "df_dend = X_principal.copy()"
   ]
  },
  {
   "cell_type": "code",
   "execution_count": null,
   "id": "d46fdea6",
   "metadata": {},
   "outputs": [],
   "source": [
    "agg_ward = AgglomerativeClustering(n_clusters=7, linkage='ward')\n",
    "df_dend['ward'] = agg_ward.fit_predict(X_principal)\n",
    "\n",
    "#adding new columns for average\n",
    "agg_average = AgglomerativeClustering(n_clusters=4, linkage='average')\n",
    "df_dend['average'] = agg_average.fit_predict(X_principal)\n",
    "\n",
    "#adding new columns for complete\n",
    "agg_complete = AgglomerativeClustering(n_clusters=7, linkage='complete')\n",
    "df_dend['complete'] = agg_complete.fit_predict(X_principal)\n",
    "\n",
    "#showing dataframe\n",
    "df_dend"
   ]
  },
  {
   "cell_type": "code",
   "execution_count": null,
   "id": "b2066073",
   "metadata": {},
   "outputs": [],
   "source": [
    "num, hue = 0, ['ward', 'average', 'complete']\n",
    "plt.figure(figsize=(30, 9))\n",
    "for i in hue:\n",
    "    num += 1\n",
    "    plt.subplot(1, 3, num)\n",
    "    sns.scatterplot(x='P1', y='P2', hue=i, data=df_dend)\n",
    "    plt.title(i.title())"
   ]
  },
  {
   "cell_type": "code",
   "execution_count": null,
   "id": "447ec648",
   "metadata": {},
   "outputs": [],
   "source": [
    "avg_withinSS = []\n",
    "\n",
    "#create loop to run the algorithm\n",
    "for i in number_of_cluster:\n",
    "    kmeans = KMeans(n_clusters=i, random_state = 2022)\n",
    "    kmeans.fit(X_principal)\n",
    "    centroids = kmeans.cluster_centers_\n",
    "\n",
    "    D_k = cdist(X_principal, centroids, 'euclidean')\n",
    "    cIdx = np.argmin(D_k, axis=1)\n",
    "    dist = np.min(D_k, axis=1)\n",
    "    avg_withinSS.append(sum(dist)/X_principal.shape[0])\n",
    "\n",
    "#creating plot for elbow method visualization\n",
    "fig = px.line(x=number_of_cluster, y=avg_withinSS, markers=True)\n",
    "fig.update_xaxes(title_text='Number of Clusters')\n",
    "fig.update_yaxes(title_text='Average Within Sum of Square')\n",
    "fig.update_layout(width=900)"
   ]
  },
  {
   "cell_type": "code",
   "execution_count": null,
   "id": "4919598e",
   "metadata": {},
   "outputs": [],
   "source": [
    "kmeans_s_scores = []\n",
    "kmeans_db_scores = []\n",
    "kmeans_calinski_scores = []\n",
    "\n",
    "#looping for modeling\n",
    "for i in number_of_cluster:\n",
    "    kmeans = KMeans(n_clusters=i, random_state = 2022)\n",
    "    kmeans.fit(X_principal)\n",
    "    kmeans_labels = kmeans.predict(X_principal)\n",
    "    kmeans_s_scores.append(silhouette_score(\n",
    "        X_principal, kmeans_labels, metric='euclidean'))\n",
    "    kmeans_db_scores.append(davies_bouldin_score(X_principal, kmeans_labels))\n",
    "    kmeans_calinski_scores.append(\n",
    "        calinski_harabasz_score(X_principal, kmeans_labels))"
   ]
  },
  {
   "cell_type": "code",
   "execution_count": null,
   "id": "cc2227cd",
   "metadata": {},
   "outputs": [],
   "source": [
    "fig = make_subplots(rows=3, cols=1, shared_xaxes=True, vertical_spacing=.01)\n",
    "kmeans_score = {'Silhouette': kmeans_s_scores,\n",
    "                'Davies Bouldin': kmeans_db_scores,\n",
    "                'Calinski-Harabasz': kmeans_calinski_scores}\n",
    "\n",
    "for i, score in zip(np.arange(1, 4), kmeans_score):\n",
    "    fig.append_trace(go.Scatter(\n",
    "        x=list(number_of_cluster), y=kmeans_score[score], name=score), row=i, col=1)\n",
    "    fig.update_yaxes(title_text=score, row=i, col=1)\n",
    "\n",
    "fig.update_xaxes(title_text='Number of Clusters', row=3)\n",
    "fig.update_layout(height=800, width=900,\n",
    "                  showlegend=False,\n",
    "                  title_text='Metric Scores')"
   ]
  },
  {
   "cell_type": "code",
   "execution_count": null,
   "id": "a2d06624",
   "metadata": {},
   "outputs": [],
   "source": [
    "kmeans_std_s_scores = []\n",
    "kmeans_std_db_scores = []\n",
    "kmeans_std_calinski_scores = []\n",
    "\n",
    "#parameter for checking the cluster stability\n",
    "n_sets = 8\n",
    "sets = np.array_split(X_principal, n_sets)\n",
    "\n",
    "# calculates the scores and store in their respective list\n",
    "for element in sets:\n",
    "    kmeans = KMeans(n_clusters=4, random_state = 2022)\n",
    "    kmeans.fit(element)\n",
    "    kmeans_std_s_scores.append(silhouette_score(\n",
    "        element, kmeans.labels_, metric='euclidean'))\n",
    "    kmeans_std_db_scores.append(davies_bouldin_score(element, kmeans.labels_))\n",
    "    kmeans_std_calinski_scores.append(\n",
    "        calinski_harabasz_score(element, kmeans.labels_))\n",
    "\n",
    "#check the cluster stability\n",
    "print(f'Standard deviation Kmeans with {4} clusters:\\nSilouette: {np.std(kmeans_std_s_scores)}\\nDavies Bouldin: {np.std(kmeans_std_db_scores)}\\nCalinski Harabasz: {np.std(kmeans_std_calinski_scores)}\\n')\n"
   ]
  },
  {
   "cell_type": "code",
   "execution_count": null,
   "id": "9ec81372",
   "metadata": {},
   "outputs": [],
   "source": [
    "kmeans = KMeans(n_clusters=4, random_state = 2022)\n",
    "kmeans.fit(X_principal)"
   ]
  },
  {
   "cell_type": "code",
   "execution_count": null,
   "id": "04edc3a8",
   "metadata": {},
   "outputs": [],
   "source": [
    "fig = px.scatter(X_principal, x='P1', y='P2',\n",
    "                 color=list(map(lambda x: str(x), kmeans.labels_)))\n",
    "fig.add_trace(go.Scatter(x=kmeans.cluster_centers_[:, 0], y=kmeans.cluster_centers_[:, 1], mode='markers',\n",
    "                         marker_color='rgba(152, 0, 0, .8)', marker_size=15, name='Centroids'))\n",
    "\n",
    "fig.update_xaxes(title_text='P1')\n",
    "fig.update_yaxes(title_text='P2')\n",
    "fig.update_layout(height=700, width=800,\n",
    "                  legend_title_text='Clusters',\n",
    "                  title_text='K-Means with 4 Clusters')"
   ]
  },
  {
   "cell_type": "code",
   "execution_count": null,
   "id": "c2f31a97",
   "metadata": {},
   "outputs": [],
   "source": [
    "manhattan_avg_withinSS = []\n",
    "euclidean_avg_withinSS = []\n",
    "cosine_avg_withinSS = []\n",
    "\n",
    "#creating list for metrics\n",
    "kmedoids_avg_withinSS = {'cityblock': manhattan_avg_withinSS,\n",
    "                         'euclidean': euclidean_avg_withinSS,\n",
    "                         'cosine': cosine_avg_withinSS}\n",
    "\n",
    "#looping for running k-medoids\n",
    "for i, j in product(kmedoids_avg_withinSS, number_of_cluster):\n",
    "    kmedoids = KMedoids(metric=i, n_clusters=j, random_state = 2022)\n",
    "    kmedoids.fit(X_principal)\n",
    "\n",
    "    D_k = cdist(X_principal, kmedoids.cluster_centers_, i)\n",
    "    cIdx = np.argmin(D_k, axis=1)\n",
    "    dist = np.min(D_k, axis=1)\n",
    "    kmedoids_avg_withinSS[i].append(sum(dist)/X_principal.shape[0])\n",
    "\n",
    "#creating plot to visualize elbow method scoring\n",
    "fig = go.Figure()\n",
    "for i in kmedoids_avg_withinSS:\n",
    "    fig.add_trace(go.Scatter(x=list(number_of_cluster),\n",
    "                  y=kmedoids_avg_withinSS[i], \n",
    "                  name=i if i != 'cityblock' else 'manhattan'))\n",
    "\n",
    "fig.update_xaxes(title_text='Number of Clusters')\n",
    "fig.update_yaxes(title_text='Average Within Sum of Square')\n",
    "fig.update_layout(width=900, legend_title_text='Metrics')"
   ]
  },
  {
   "cell_type": "code",
   "execution_count": null,
   "id": "a435520e",
   "metadata": {},
   "outputs": [],
   "source": [
    "manhattan_s_scores = []\n",
    "manhattan_db_scores = []\n",
    "manhattan_calinski_scores = []\n",
    "euclidean_s_scores = []\n",
    "euclidean_db_scores = []\n",
    "euclidean_calinski_scores = []\n",
    "cosine_s_scores = []\n",
    "cosine_db_scores = []\n",
    "cosine_calinski_scores = []\n",
    "\n",
    "kmedoids_metrics = {'manhattan': [manhattan_s_scores, manhattan_db_scores, manhattan_calinski_scores, 'rgb(128,177,211)'],\n",
    "                    'euclidean': [euclidean_s_scores, euclidean_db_scores, euclidean_calinski_scores, 'rgb(141,211,199)'],\n",
    "                    'cosine': [cosine_s_scores, cosine_db_scores, cosine_calinski_scores, 'rgb(251,128,114)']}\n",
    "\n",
    "#looping to run k-medoids by each distance metrics\n",
    "for i, j in product(kmedoids_metrics, number_of_cluster):\n",
    "    kmedoids = KMedoids(metric=i, n_clusters=j, random_state = 2022)\n",
    "    kmedoids.fit(X_principal)\n",
    "    kmedoids_metrics[i][0].append(silhouette_score(\n",
    "        X_principal, kmedoids.labels_, metric=i))\n",
    "    kmedoids_metrics[i][1].append(davies_bouldin_score(\n",
    "        X_principal, kmedoids.labels_))\n",
    "    kmedoids_metrics[i][2].append(calinski_harabasz_score(\n",
    "        X_principal, kmedoids.labels_))"
   ]
  },
  {
   "cell_type": "code",
   "execution_count": null,
   "id": "27478cdc",
   "metadata": {},
   "outputs": [],
   "source": [
    "fig = make_subplots(rows=3, cols=1, shared_xaxes=True, vertical_spacing=.01)\n",
    "\n",
    "for i in kmedoids_metrics:\n",
    "    for j, k in zip(range(1, 4), ['Silhouette', 'Davies Bouldin', 'Calinski-Harabasz']):\n",
    "        fig.append_trace(go.Scatter(x=list(number_of_cluster), y=kmedoids_metrics[i][j-1], name=i.title(),\n",
    "                                    legendgroup=i, line_color=kmedoids_metrics[i][-1],\n",
    "                                    showlegend=False if j != 1 else True), row=j, col=1)\n",
    "        fig.update_yaxes(title_text=k, row=j, col=1)\n",
    "\n",
    "fig.update_xaxes(title_text='Number of Clusters', row=3)\n",
    "fig.update_layout(height=800, width=900,\n",
    "                  legend_title_text='Metrics',\n",
    "                  title_text='Metric Scores',\n",
    "                  legend_traceorder='reversed')"
   ]
  },
  {
   "cell_type": "code",
   "execution_count": null,
   "id": "a7f3ea32",
   "metadata": {},
   "outputs": [],
   "source": [
    "kmedoids_manhattan = KMedoids(metric=\"manhattan\", n_clusters=4, random_state = 2022)\n",
    "kmedoids_euclidean = KMedoids(metric=\"euclidean\", n_clusters=4, random_state = 2022)\n",
    "kmedoids_cosine = KMedoids(metric=\"cosine\", n_clusters=4, random_state = 2022)\n",
    "\n",
    "#running the algorithm\n",
    "kmedoids_manhattan.fit(X_principal)\n",
    "kmedoids_euclidean.fit(X_principal)\n",
    "kmedoids_cosine.fit(X_principal);"
   ]
  },
  {
   "cell_type": "code",
   "execution_count": null,
   "id": "3955a4b6",
   "metadata": {},
   "outputs": [],
   "source": [
    "kmedoids_graph = {'Manhattan': kmedoids_manhattan,\n",
    "                  'Euclidean': kmedoids_euclidean,\n",
    "                  'Cosine': kmedoids_cosine}\n",
    "\n",
    "plt.figure(figsize=(24, 8), constrained_layout=True)\n",
    "for i, j in zip(kmedoids_graph, range(1,4)):\n",
    "    plt.subplot(1,3,j)\n",
    "    sns.scatterplot(x='P1', y='P2', data=X_principal,\n",
    "                    hue= kmedoids_graph[i].labels_)\n",
    "    sns.scatterplot(data = None,\n",
    "                    x = kmedoids_graph[i].cluster_centers_[:,0], \n",
    "                    y = kmedoids_graph[i].cluster_centers_[:,1])\n",
    "    plt.title(i)"
   ]
  },
  {
   "cell_type": "code",
   "execution_count": null,
   "id": "c9534c4d",
   "metadata": {},
   "outputs": [],
   "source": [
    "df_compare = pd.DataFrame({'Model' : ['Agglomerative (Average)', 'K-Means', 'K-Medoids (Cosine)'],\n",
    "              'N Cluster' : [4, 4, 4],\n",
    "              'Silhouette Score' : [average_s_scores[2], kmeans_s_scores[2], cosine_s_scores[2]],\n",
    "              'Devies Bouldin Score' : [average_db_scores[2], kmeans_db_scores[2], cosine_db_scores[2]],\n",
    "              'Calinski Harabasz Score' : [average_calinski_scores[2], kmeans_calinski_scores[2], cosine_calinski_scores[2]]\n",
    "             })\n",
    "df_compare"
   ]
  },
  {
   "cell_type": "code",
   "execution_count": null,
   "id": "3b9981df",
   "metadata": {},
   "outputs": [],
   "source": [
    "model_fix = KMedoids(metric=\"cosine\", n_clusters=4, random_state = 2022)\n",
    "model_fix.fit(X_principal)\n",
    "model_fix_centers = model_fix.cluster_centers_\n",
    "model_fix_labels = model_fix.predict(X_principal)\n",
    "model_fix_centers"
   ]
  },
  {
   "cell_type": "code",
   "execution_count": null,
   "id": "048b197c",
   "metadata": {},
   "outputs": [],
   "source": [
    "np.unique(model_fix_labels)"
   ]
  },
  {
   "cell_type": "code",
   "execution_count": null,
   "id": "3b8a3792",
   "metadata": {},
   "outputs": [],
   "source": [
    "df_cluster = pd.concat([df, pd.DataFrame({'cluster' :model_fix_labels})], axis = 1)\n",
    "df_cluster.head()"
   ]
  },
  {
   "cell_type": "code",
   "execution_count": null,
   "id": "5ebe4c4f",
   "metadata": {},
   "outputs": [],
   "source": [
    "df_cluster['cluster'].value_counts()"
   ]
  },
  {
   "cell_type": "code",
   "execution_count": null,
   "id": "dcdf02d7",
   "metadata": {},
   "outputs": [],
   "source": [
    "pca_n = PCA(n_components = 2, random_state = 2022) \n",
    "X_principal = pca_n.fit_transform(df_model)\n",
    "df_X_principal = pd.DataFrame(X_principal, columns = ['Principal Component 1', 'Principal Component 2'])\n",
    "df_X_principal.head(2)"
   ]
  },
  {
   "cell_type": "code",
   "execution_count": null,
   "id": "bf72896f",
   "metadata": {},
   "outputs": [],
   "source": [
    "finalDf = pd.concat([df_X_principal, pd.DataFrame({'cluster':model_fix_labels})], axis = 1)\n",
    "finalDf.head()"
   ]
  },
  {
   "cell_type": "code",
   "execution_count": null,
   "id": "45e32412",
   "metadata": {},
   "outputs": [],
   "source": [
    "fig = go.Figure()\n",
    "\n",
    "def cluster(cluster, color):\n",
    "    fig.add_trace(go.Scatter(\n",
    "        x=finalDf[finalDf.cluster == cluster]['Principal Component 1'],\n",
    "        y=finalDf[finalDf.cluster == cluster]['Principal Component 2'],\n",
    "        mode='markers',\n",
    "        name=f'Cluster {cluster}',\n",
    "        marker_color=color))\n",
    "\n",
    "for C in list(finalDf.cluster.unique()):\n",
    "    if C == 0:\n",
    "        cluster(0, 'red')\n",
    "    elif C == 1:\n",
    "        cluster(1, 'green')\n",
    "    elif C == 2:\n",
    "        cluster(2, 'blue')\n",
    "    elif C == 3:\n",
    "        cluster(3, 'purple')\n",
    "\n",
    "fig.add_trace(go.Scatter(x=model_fix_centers[:, 0], y=model_fix_centers[:, 1], mode='markers',\n",
    "                         marker_color='rgba(152, 0, 0, .8)', marker_size=15, name='Centroids'))\n",
    "\n",
    "fig.update_xaxes(title_text='Principal Component 1')\n",
    "fig.update_yaxes(title_text='Principal Component 2')\n",
    "fig.update_layout(height=900, width=1100,\n",
    "                  legend_title_text='Clusters',\n",
    "                  title_text='K-Medoids with 4 Clusters')"
   ]
  },
  {
   "cell_type": "code",
   "execution_count": null,
   "id": "b5cf7a0b",
   "metadata": {},
   "outputs": [],
   "source": [
    "df_cluster = pd.concat([df_cluster, df_model[['oneoff_proportion',\n",
    "                 'installments_proportion', 'payments_proportion']]], axis=1)\n"
   ]
  },
  {
   "cell_type": "code",
   "execution_count": null,
   "id": "547484b9",
   "metadata": {},
   "outputs": [],
   "source": [
    "cluster_0 = df_cluster[df_cluster['cluster'] == 0]\n",
    "cluster_1 = df_cluster[df_cluster['cluster'] == 1]\n",
    "cluster_2 = df_cluster[df_cluster['cluster'] == 2]\n",
    "cluster_3 = df_cluster[df_cluster['cluster'] == 3]"
   ]
  },
  {
   "cell_type": "code",
   "execution_count": null,
   "id": "1d0d84e2",
   "metadata": {},
   "outputs": [],
   "source": [
    "need_columns = ['balance', 'purchases', 'cash_advance', 'credit_limit', 'payments']\n",
    "d={}\n",
    "for i in need_columns:  \n",
    "    d[i] = pd.DataFrame(df_cluster.groupby('cluster', axis = 0)[i].describe()[['mean', '50%', 'min', 'max']])\n",
    "\n",
    "pd.concat(d, axis =1)"
   ]
  },
  {
   "cell_type": "code",
   "execution_count": null,
   "id": "f2309490",
   "metadata": {},
   "outputs": [],
   "source": [
    "plt.figure(figsize=(21,5))\n",
    "plt.subplot(1,4,1)\n",
    "sns.histplot(cluster_0['balance'], color = 'red')\n",
    "plt.title('cluster 0', size = 16)\n",
    "plt.subplot(1,4,2)\n",
    "sns.histplot(cluster_1['balance'], color='green' )\n",
    "plt.title('cluster 1', size = 16)\n",
    "plt.subplot(1,4,3)\n",
    "sns.histplot(cluster_2['balance'], color='blue')\n",
    "plt.title('cluster 2', size = 16)\n",
    "plt.subplot(1,4,4)\n",
    "sns.histplot(cluster_3['balance'], color='purple')\n",
    "plt.title('cluster 3', size = 16)\n",
    "plt.show()"
   ]
  },
  {
   "cell_type": "code",
   "execution_count": null,
   "id": "b2f4ba22",
   "metadata": {},
   "outputs": [],
   "source": [
    "plt.figure(figsize=(21,5))\n",
    "plt.subplot(1,4,1)\n",
    "sns.histplot(cluster_0['purchases'], color = 'red')\n",
    "plt.title('cluster 0', size = 16)\n",
    "plt.subplot(1,4,2)\n",
    "sns.histplot(cluster_1['purchases'], color='green')\n",
    "plt.title('cluster 1', size = 16)\n",
    "plt.subplot(1,4,3)\n",
    "sns.histplot(cluster_2['purchases'], color='blue')\n",
    "plt.title('cluster 2', size = 16)\n",
    "plt.subplot(1,4,4)\n",
    "sns.histplot(cluster_3['purchases'], color='purple')\n",
    "plt.title('cluster 3', size = 16)\n",
    "plt.show()"
   ]
  },
  {
   "cell_type": "code",
   "execution_count": null,
   "id": "a50c5b63",
   "metadata": {},
   "outputs": [],
   "source": [
    "plt.figure(figsize=(21,8))\n",
    "ax = pd.DataFrame({'Cluster' : ['Cluster 0', 'Cluster 0', 'Cluster 1', 'Cluster 1','Cluster 2', 'Cluster 2','Cluster 3', 'Cluster 3'],\n",
    "                    'Purchases' : [cluster_0['oneoff_purchases'].sum(), \n",
    "                                   cluster_0['installments_purchases'].sum(),\n",
    "                                   cluster_1['oneoff_purchases'].sum(), \n",
    "                                   cluster_1['installments_purchases'].sum(),\n",
    "                                   cluster_2['oneoff_purchases'].sum(), \n",
    "                                   cluster_2['installments_purchases'].sum(),\n",
    "                                   cluster_3['oneoff_purchases'].sum(),\n",
    "                                   cluster_3['installments_purchases'].sum()], \n",
    "                    'Purchases Method' : ['one off', 'installments', 'one off', 'installments', 'one off', 'installments', 'one off', 'installments']})\n",
    "sns.barplot(x='Cluster', y='Purchases', data=ax, hue = 'Purchases Method' )\n",
    "plt.ylabel('Total Purchases (Million)')\n",
    "plt.xlabel('Cluster')\n",
    "plt.title('Purchases Persentage', size = 20)"
   ]
  },
  {
   "cell_type": "code",
   "execution_count": null,
   "id": "f5c77448",
   "metadata": {},
   "outputs": [],
   "source": [
    "save = pd.concat([df, pd.DataFrame(\n",
    "    {'cluster': model_fix_labels})], axis=1)\n",
    "save.head()"
   ]
  },
  {
   "cell_type": "code",
   "execution_count": null,
   "id": "3a7237ea",
   "metadata": {},
   "outputs": [],
   "source": [
    "save = pd.concat([save, df_model[['oneoff_proportion',\n",
    "                 'installments_proportion', 'payments_proportion']]], axis=1)\n",
    "save.head()"
   ]
  },
  {
   "cell_type": "code",
   "execution_count": null,
   "id": "69254c2e",
   "metadata": {},
   "outputs": [],
   "source": [
    "save.drop('prc_full_payment', axis=1, inplace=True)"
   ]
  },
  {
   "cell_type": "code",
   "execution_count": null,
   "id": "bc8d5815",
   "metadata": {},
   "outputs": [],
   "source": [
    "save"
   ]
  },
  {
   "cell_type": "code",
   "execution_count": null,
   "id": "def32c41",
   "metadata": {},
   "outputs": [],
   "source": [
    "save = save[['cust_id', 'balance', 'balance_frequency', \n",
    "             'purchases', 'oneoff_purchases', 'installments_purchases', 'cash_advance',\n",
    "             'oneoff_proportion', 'installments_proportion',\n",
    "             'purchases_frequency', 'oneoff_purchases_frequency', 'purchases_installments_frequency', 'cash_advance_frequency',\n",
    "             'purchases_trx', 'cash_advance_trx', \n",
    "             'credit_limit', 'payments', 'minimum_payments', 'payments_proportion', \n",
    "             'tenure', 'cluster']]"
   ]
  },
  {
   "cell_type": "code",
   "execution_count": null,
   "id": "bc355bc1",
   "metadata": {},
   "outputs": [],
   "source": [
    "Cluster_Name = []\n",
    "\n",
    "for i in save['cluster'] :\n",
    "    if i == 0 :\n",
    "        Cluster_Name.append('Balance Spender')\n",
    "    elif i == 1 :\n",
    "        Cluster_Name.append('Money Hoarders')\n",
    "    elif i == 2 :\n",
    "        Cluster_Name.append('Potential Customer')\n",
    "    elif i == 3 :\n",
    "        Cluster_Name.append('Credit Lovers')"
   ]
  },
  {
   "cell_type": "code",
   "execution_count": null,
   "id": "54c6dec9",
   "metadata": {},
   "outputs": [],
   "source": [
    "save['Cluster Name'] = Cluster_Name\n",
    "save.head()"
   ]
  },
  {
   "cell_type": "code",
   "execution_count": null,
   "id": "cbbb0609",
   "metadata": {},
   "outputs": [],
   "source": [
    "save.to_csv('CC with Cluster.csv', index=False)"
   ]
  },
  {
   "cell_type": "code",
   "execution_count": null,
   "id": "197c27ba",
   "metadata": {},
   "outputs": [],
   "source": [
    "import numpy as np\n",
    "import pandas as pd"
   ]
  },
  {
   "cell_type": "code",
   "execution_count": null,
   "id": "3ba40a14",
   "metadata": {},
   "outputs": [],
   "source": [
    "data=pd.read_csv('CC with Cluster.csv')\n",
    "data"
   ]
  },
  {
   "cell_type": "code",
   "execution_count": null,
   "id": "2fd74ec0",
   "metadata": {},
   "outputs": [],
   "source": [
    "data.head()"
   ]
  },
  {
   "cell_type": "code",
   "execution_count": null,
   "id": "c9e458e4",
   "metadata": {},
   "outputs": [],
   "source": [
    "data.shape"
   ]
  },
  {
   "cell_type": "code",
   "execution_count": null,
   "id": "f10f79ca",
   "metadata": {},
   "outputs": [],
   "source": [
    "data.isnull().values.any()"
   ]
  },
  {
   "cell_type": "code",
   "execution_count": null,
   "id": "6d07a2ed",
   "metadata": {},
   "outputs": [],
   "source": [
    "data.isnull().sum()"
   ]
  },
  {
   "cell_type": "code",
   "execution_count": null,
   "id": "85774841",
   "metadata": {},
   "outputs": [],
   "source": [
    "X = data[['balance','purchases','installments_purchases','cash_advance','purchases_trx','cash_advance_trx','credit_limit','payments','payments_proportion','tenure']]\n",
    "Y = data['cluster']"
   ]
  },
  {
   "cell_type": "code",
   "execution_count": null,
   "id": "dd165a3a",
   "metadata": {},
   "outputs": [],
   "source": [
    "print(X.shape)\n",
    "print(Y.shape)"
   ]
  },
  {
   "cell_type": "code",
   "execution_count": null,
   "id": "e6e31814",
   "metadata": {},
   "outputs": [],
   "source": [
    "Y.head()"
   ]
  },
  {
   "cell_type": "code",
   "execution_count": null,
   "id": "ee9bc339",
   "metadata": {},
   "outputs": [],
   "source": [
    "from sklearn.model_selection import train_test_split\n",
    "from sklearn.ensemble import RandomForestClassifier  # For classification tasks\n",
    "from sklearn.ensemble import RandomForestRegressor   # For regression tasks\n",
    "from sklearn.model_selection import train_test_split\n",
    "from sklearn.metrics import accuracy_score  # For classification tasks\n",
    "from sklearn.metrics import mean_squared_error \n"
   ]
  },
  {
   "cell_type": "code",
   "execution_count": null,
   "id": "4c8eb47d",
   "metadata": {},
   "outputs": [],
   "source": [
    "X_train, X_test, y_train, y_test = train_test_split(X, Y, test_size=0.2, random_state=42)\n"
   ]
  },
  {
   "cell_type": "code",
   "execution_count": null,
   "id": "a94eb6fa",
   "metadata": {},
   "outputs": [],
   "source": [
    "print(X_train.shape)\n",
    "print(X_test.shape)\n",
    "print(y_train.shape)\n",
    "print(y_test.shape)"
   ]
  },
  {
   "cell_type": "code",
   "execution_count": null,
   "id": "92fa2cdd",
   "metadata": {},
   "outputs": [],
   "source": [
    "rf_classifier = RandomForestClassifier(n_estimators=100, random_state=42)"
   ]
  },
  {
   "cell_type": "code",
   "execution_count": null,
   "id": "bb28a7df",
   "metadata": {},
   "outputs": [],
   "source": [
    "rf_regressor = RandomForestRegressor(n_estimators=100, random_state=42)"
   ]
  },
  {
   "cell_type": "code",
   "execution_count": null,
   "id": "f6b4a517",
   "metadata": {},
   "outputs": [],
   "source": [
    "rf_classifier.fit(X_train, y_train)"
   ]
  },
  {
   "cell_type": "code",
   "execution_count": null,
   "id": "0f9d5a97",
   "metadata": {},
   "outputs": [],
   "source": [
    "rf_regressor.fit(X_train, y_train)"
   ]
  },
  {
   "cell_type": "code",
   "execution_count": null,
   "id": "2a9aaa8c",
   "metadata": {},
   "outputs": [],
   "source": [
    "y_pred = rf_classifier.predict(X_test)\n",
    "accuracy = accuracy_score(y_test, y_pred)\n",
    "print(f'Accuracy: {accuracy}')"
   ]
  },
  {
   "cell_type": "code",
   "execution_count": null,
   "id": "e9e394a2",
   "metadata": {},
   "outputs": [],
   "source": [
    "y_pred = rf_regressor.predict(X_test)\n",
    "mse = mean_squared_error(y_test, y_pred)\n",
    "print(f'Mean Squared Error: {mse}')"
   ]
  },
  {
   "cell_type": "code",
   "execution_count": null,
   "id": "f0fb1ed0",
   "metadata": {},
   "outputs": [],
   "source": [
    "new_data = ([[40.900749,95.4,95.4,0,2,0,1000,201.802084,0,12]])\n",
    "\n",
    "\n",
    "y_pred_new_data = rf_classifier.predict(new_data)\n",
    "print(y_pred_new_data)\n",
    "  \n",
    "if y_pred_new_data[0] == 0:\n",
    "    print(\"Balance Spender\")\n",
    "elif y_pred_new_data[0] ==1:\n",
    "    print(\"Money Hoarders\")\n",
    "elif y_pred_new_data[0]==2:\n",
    "    print(\"Potential Customer\")\n",
    "elif y_pred_new_data[0]==3:\n",
    "    print(\"Credit Lovers\")"
   ]
  },
  {
   "cell_type": "code",
   "execution_count": null,
   "id": "f48d1719",
   "metadata": {},
   "outputs": [],
   "source": [
    "import pickle\n",
    "# Specify the file path where you want to save the pickle file\n",
    "file_path = 'rf_classifier.pkl'\n",
    "\n",
    "# Open the file in binary write mode\n",
    "with open(file_path, 'wb') as file:\n",
    "  \n",
    "    pickle.dump(rf_classifier, file)"
   ]
  },
  {
   "cell_type": "code",
   "execution_count": null,
   "id": "7fe7a4be",
   "metadata": {},
   "outputs": [],
   "source": []
  },
  {
   "cell_type": "code",
   "execution_count": null,
   "id": "0eeab086",
   "metadata": {},
   "outputs": [],
   "source": []
  },
  {
   "cell_type": "code",
   "execution_count": null,
   "id": "ea034b22",
   "metadata": {},
   "outputs": [],
   "source": []
  },
  {
   "cell_type": "code",
   "execution_count": null,
   "id": "17043994",
   "metadata": {},
   "outputs": [],
   "source": []
  },
  {
   "cell_type": "code",
   "execution_count": null,
   "id": "674de654",
   "metadata": {},
   "outputs": [],
   "source": []
  },
  {
   "cell_type": "code",
   "execution_count": null,
   "id": "3e43bf73",
   "metadata": {},
   "outputs": [],
   "source": []
  },
  {
   "cell_type": "code",
   "execution_count": null,
   "id": "031bc9bf",
   "metadata": {},
   "outputs": [],
   "source": []
  }
 ],
 "metadata": {
  "kernelspec": {
   "display_name": "Python 3 (ipykernel)",
   "language": "python",
   "name": "python3"
  },
  "language_info": {
   "codemirror_mode": {
    "name": "ipython",
    "version": 3
   },
   "file_extension": ".py",
   "mimetype": "text/x-python",
   "name": "python",
   "nbconvert_exporter": "python",
   "pygments_lexer": "ipython3",
   "version": "3.9.0"
  }
 },
 "nbformat": 4,
 "nbformat_minor": 5
}
